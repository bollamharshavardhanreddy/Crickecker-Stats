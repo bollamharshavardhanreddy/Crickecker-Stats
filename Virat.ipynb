{
 "cells": [
  {
   "cell_type": "code",
   "execution_count": 1,
   "metadata": {},
   "outputs": [],
   "source": [
    "import requests"
   ]
  },
  {
   "cell_type": "code",
   "execution_count": 2,
   "metadata": {},
   "outputs": [],
   "source": [
    "import bs4"
   ]
  },
  {
   "cell_type": "code",
   "execution_count": 3,
   "metadata": {},
   "outputs": [],
   "source": [
    "base_url = 'http://stats.espncricinfo.com/ci/engine/player/'\n"
   ]
  },
  {
   "cell_type": "code",
   "execution_count": 4,
   "metadata": {},
   "outputs": [],
   "source": [
    "\n",
    "player_id = '253802'\n"
   ]
  },
  {
   "cell_type": "code",
   "execution_count": 5,
   "metadata": {},
   "outputs": [],
   "source": [
    "match_class = '2'"
   ]
  },
  {
   "cell_type": "code",
   "execution_count": 6,
   "metadata": {},
   "outputs": [],
   "source": [
    "params = [\n",
    "    ('class', match_class),\n",
    "    ('template', 'results'),\n",
    "    ('type', 'batting'),\n",
    "    ('view', 'match')\n",
    "]"
   ]
  },
  {
   "cell_type": "code",
   "execution_count": 7,
   "metadata": {},
   "outputs": [],
   "source": [
    "\n",
    "url = base_url + player_id + '.html'"
   ]
  },
  {
   "cell_type": "code",
   "execution_count": 8,
   "metadata": {},
   "outputs": [],
   "source": [
    "\n",
    "response = requests.get(url=url, params=params)\n",
    "soup = bs4.BeautifulSoup(response.text,'lxml')\n"
   ]
  },
  {
   "cell_type": "code",
   "execution_count": 9,
   "metadata": {},
   "outputs": [],
   "source": [
    "table = soup.find_all(\"table\")[3]"
   ]
  },
  {
   "cell_type": "code",
   "execution_count": 10,
   "metadata": {},
   "outputs": [],
   "source": [
    "rows = bs4.BeautifulSoup(str(table))"
   ]
  },
  {
   "cell_type": "code",
   "execution_count": 11,
   "metadata": {},
   "outputs": [],
   "source": [
    "\n",
    "match_data = rows.find_all('tr')[1:]"
   ]
  },
  {
   "cell_type": "code",
   "execution_count": 13,
   "metadata": {},
   "outputs": [],
   "source": [
    "data = []\n",
    "i = 0\n",
    "for match in match_data:\n",
    "    i = i+1\n",
    "    isDismissed = False\n",
    "    didNotBat = False\n",
    "\n",
    "    cols = bs4.BeautifulSoup(str(match))\n",
    "    \n",
    "    score_cell = cols.find_all('td')[0]\n",
    "    soup = bs4.BeautifulSoup(str(score_cell))\n",
    "    score = soup.get_text()\n",
    "    if score == \"DNB\" or score == \"TDNB\":\n",
    "        didNotBat = True\n",
    "        runs = 0\n",
    "    elif \"*\" in score:\n",
    "        runs = int(score[:-1])\n",
    "    else:\n",
    "        isDismissed = True\n",
    "        runs =  int(score)\n",
    "        \n",
    "\n",
    "    bf_cell = cols.find_all('td')[2]\n",
    "    soup = bs4.BeautifulSoup(str(bf_cell))\n",
    "    balls = soup.get_text()\n",
    "    if balls == \"-\":\n",
    "        ball = 0\n",
    "        strikeRate = 0\n",
    "    else:\n",
    "        ball = balls\n",
    "        if(int(balls)>0):\n",
    "            strikeRate = round(int(runs)/int(balls) * 100,2)\n",
    "        \n",
    "    fours_cell  = cols.find_all('td')[4]\n",
    "    soup = bs4.BeautifulSoup(str(fours_cell))\n",
    "    fours = soup.get_text()\n",
    "    if fours == \"-\":\n",
    "        four = 0\n",
    "    else:\n",
    "        four = fours\n",
    "    \n",
    "    sixes_cell  = cols.find_all('td')[5]\n",
    "    soup = bs4.BeautifulSoup(str(sixes_cell))\n",
    "    sixes = soup.get_text()\n",
    "    if sixes == \"-\":\n",
    "        six = 0\n",
    "    else:\n",
    "        six = sixes\n",
    "    \n",
    "    \n",
    "    opposition_cell  = cols.find_all('td')[7]\n",
    "    soup = bs4.BeautifulSoup(str(opposition_cell))\n",
    "    opposition = soup.get_text()[2:]\n",
    "    \n",
    "    ground_cell  = cols.find_all('td')[8]\n",
    "    soup = bs4.BeautifulSoup(str(ground_cell))\n",
    "    ground = soup.get_text()\n",
    "    \n",
    "    date_cell  = cols.find_all('td')[9]\n",
    "    soup = bs4.BeautifulSoup(str(date_cell))\n",
    "    date = soup.get_text()\n",
    "    \n",
    "    id_cell  = cols.find_all('td')[10]\n",
    "    soup = bs4.BeautifulSoup(str(id_cell))\n",
    "    matchID = soup.get_text().split(\"#\",1)[1] \n",
    "    \n",
    "    entry = {\n",
    "        'balls': int(ball),\n",
    "        'batPosition': None,\n",
    "        'captained': False,\n",
    "        'date': date,\n",
    "        'didNotBat': didNotBat,\n",
    "        'dismissalType': None,\n",
    "        'dismissedAgainst': None,\n",
    "        'dismissalBowlerHand': None,\n",
    "        'matchID': int(matchID),\n",
    "        'minutes': 0,\n",
    "        'fours': int(four),\n",
    "        'firstBat': False,\n",
    "        'ground': ground,\n",
    "        'match': int(i),\n",
    "        'notOut': not isDismissed,\n",
    "        'opposition': opposition,\n",
    "        'runs': int(runs),\n",
    "        'sixes': int(six),\n",
    "        'strikeRate': int(strikeRate),\n",
    "        'won': False\n",
    "    }\n",
    "    data.append(entry)"
   ]
  },
  {
   "cell_type": "code",
   "execution_count": 14,
   "metadata": {},
   "outputs": [],
   "source": [
    "import pandas as pd\n"
   ]
  },
  {
   "cell_type": "code",
   "execution_count": 15,
   "metadata": {},
   "outputs": [],
   "source": [
    "dataset = pd.DataFrame(data)"
   ]
  },
  {
   "cell_type": "code",
   "execution_count": 16,
   "metadata": {},
   "outputs": [],
   "source": [
    "arams = [\n",
    "    ('class', match_class),\n",
    "    ('template', 'results'),\n",
    "    ('type', 'batting'),\n",
    "    ('view', 'match'),\n",
    "    ('result','1')\n",
    "]\n",
    "response = requests.get(url=url, params=params)\n",
    "soup = bs4.BeautifulSoup(response.text,'lxml')\n",
    "table = soup.find_all(\"table\")[3]\n",
    "match_data = table.find_all('tr')[1:]\n",
    "\n",
    "won = []\n",
    "for match in match_data:\n",
    "    id_cell  = match.find_all('td')[10]\n",
    "    soup = bs4.BeautifulSoup(str(id_cell))\n",
    "    matchID = soup.get_text().split(\"#\",1)[1]\n",
    "    won.append(int(matchID))"
   ]
  },
  {
   "cell_type": "code",
   "execution_count": 17,
   "metadata": {},
   "outputs": [],
   "source": [
    "params = [\n",
    "    ('captain','1'),\n",
    "    ('class', match_class),\n",
    "    ('filter','advanced'),\n",
    "    ('template', 'results'),\n",
    "    ('type', 'batting'),\n",
    "    ('view', 'match'),\n",
    "]\n",
    "response = requests.get(url=url, params=params)\n",
    "soup = bs4.BeautifulSoup(response.text,'lxml')\n",
    "table = soup.find_all(\"table\")[3]\n",
    "match_data = table.find_all('tr')[1:]\n",
    "\n",
    "captained = []\n",
    "for match in match_data:\n",
    "    id_cell  = match.find_all('td')[10]\n",
    "    soup = bs4.BeautifulSoup(str(id_cell))\n",
    "    matchID = soup.get_text().split(\"#\",1)[1]\n",
    "    captained.append(int(matchID))"
   ]
  },
  {
   "cell_type": "code",
   "execution_count": 18,
   "metadata": {},
   "outputs": [],
   "source": [
    "params = [\n",
    "    ('class', match_class),\n",
    "    ('filter','advanced'),\n",
    "    ('template', 'results'),\n",
    "    ('type', 'batting'),\n",
    "    ('view', 'innings'),\n",
    "]\n",
    "response = requests.get(url=url, params=params)\n",
    "soup = bs4.BeautifulSoup(response.text,'lxml')\n",
    "table = soup.find_all(\"table\")[3]\n",
    "match_data = table.find_all('tr')[1:]\n",
    "\n",
    "batPosition = []\n",
    "batFirst = []\n",
    "dismissalType = []\n",
    "minutes = []\n",
    "for match in match_data:\n",
    "\n",
    "    id_cell  = match.find_all('td')[13]\n",
    "    soup = bs4.BeautifulSoup(str(id_cell))\n",
    "    matchID = soup.get_text().split(\"#\",1)[1]\n",
    "\n",
    "    position_cell  = match.find_all('td')[6]\n",
    "    soup = bs4.BeautifulSoup(str(position_cell))\n",
    "    batPosition.append({\n",
    "        \"id\": int(matchID),\n",
    "        \"pos\": soup.get_text()\n",
    "    })\n",
    "    \n",
    "    minutes_cell  = match.find_all('td')[1]\n",
    "    soup = bs4.BeautifulSoup(str(minutes_cell))\n",
    "    if soup.get_text() != '-':\n",
    "        minutes.append({\n",
    "            \"id\": int(matchID),\n",
    "            \"min\": soup.get_text()\n",
    "        })\n",
    "    \n",
    "    dismissal_cell  = match.find_all('td')[7]\n",
    "    soup = bs4.BeautifulSoup(str(dismissal_cell))\n",
    "    if soup.get_text() != '-' or soup.get_text() != 'not out':\n",
    "        dismissalType.append({\n",
    "            \"id\": int(matchID),\n",
    "            \"type\": soup.get_text()\n",
    "        })\n",
    "    \n",
    "    innings_cell  = match.find_all('td')[8]\n",
    "    soup = bs4.BeautifulSoup(str(innings_cell))\n",
    "    if soup.get_text() == '1':  \n",
    "        batFirst.append(int(matchID))"
   ]
  },
  {
   "cell_type": "code",
   "execution_count": 19,
   "metadata": {},
   "outputs": [],
   "source": [
    "dismissedAgainst = []\n",
    "\n",
    "params = [\n",
    "    ('class', match_class),\n",
    "    ('bowling_pacespin','1'),\n",
    "    ('filter','advanced'),\n",
    "    ('template', 'results'),\n",
    "    ('type', 'batting'),\n",
    "    ('view', 'dismissal_list'),\n",
    "]\n",
    "response = requests.get(url=url, params=params)\n",
    "soup = bs4.BeautifulSoup(response.text,'lxml')\n",
    "table = soup.find_all(\"table\")[3]\n",
    "match_data = table.find_all('tr')[1:]\n",
    "\n",
    "for match in match_data:\n",
    "\n",
    "    id_cell  = match.find_all('td')[9]\n",
    "    soup = bs4.BeautifulSoup(str(id_cell))\n",
    "    matchID = soup.get_text().split(\"#\",1)[1]\n",
    "    dismissedAgainst.append({\n",
    "        \"type\": \"pace\",\n",
    "        \"id\": int(matchID)\n",
    "    })\n",
    "\n",
    "params = [\n",
    "    ('class', match_class),\n",
    "    ('bowling_pacespin','2'),\n",
    "    ('filter','advanced'),\n",
    "    ('template', 'results'),\n",
    "    ('type', 'batting'),\n",
    "    ('view', 'dismissal_list'),\n",
    "]\n",
    "response = requests.get(url=url, params=params)\n",
    "soup = bs4.BeautifulSoup(response.text,'lxml')\n",
    "table = soup.find_all(\"table\")[3]\n",
    "match_data = table.find_all('tr')[1:]\n",
    "\n",
    "for match in match_data:\n",
    "\n",
    "    id_cell  = match.find_all('td')[9]\n",
    "    soup = bs4.BeautifulSoup(str(id_cell))\n",
    "    matchID = soup.get_text().split(\"#\",1)[1]\n",
    "    dismissedAgainst.append({\n",
    "        \"type\": \"spin\",\n",
    "        \"id\": int(matchID)\n",
    "    })"
   ]
  },
  {
   "cell_type": "code",
   "execution_count": 20,
   "metadata": {},
   "outputs": [],
   "source": [
    "dismissalBowlerHand = []\n",
    "\n",
    "params = [\n",
    "    ('class', match_class),\n",
    "    ('bowling_hand','1'),\n",
    "    ('filter','advanced'),\n",
    "    ('template', 'results'),\n",
    "    ('type', 'batting'),\n",
    "    ('view', 'dismissal_list'),\n",
    "]\n",
    "response = requests.get(url=url, params=params)\n",
    "soup = bs4.BeautifulSoup(response.text,'lxml')\n",
    "table = soup.find_all(\"table\")[3]\n",
    "match_data = table.find_all('tr')[1:]\n",
    "\n",
    "for match in match_data:\n",
    "\n",
    "    id_cell  = match.find_all('td')[9]\n",
    "    soup = bs4.BeautifulSoup(str(id_cell))\n",
    "    matchID = soup.get_text().split(\"#\",1)[1]\n",
    "    dismissalBowlerHand.append({\n",
    "        \"hand\": \"right\",\n",
    "        \"id\": int(matchID)\n",
    "    })\n",
    "\n",
    "params = [\n",
    "    ('class', match_class),\n",
    "    ('bowling_hand','2'),\n",
    "    ('filter','advanced'),\n",
    "    ('template', 'results'),\n",
    "    ('type', 'batting'),\n",
    "    ('view', 'dismissal_list'),\n",
    "]\n",
    "response = requests.get(url=url, params=params)\n",
    "soup = bs4.BeautifulSoup(response.text,'lxml')\n",
    "table = soup.find_all(\"table\")[3]\n",
    "match_data = table.find_all('tr')[1:]\n",
    "\n",
    "for match in match_data:\n",
    "\n",
    "    id_cell  = match.find_all('td')[9]\n",
    "    soup = bs4.BeautifulSoup(str(id_cell))\n",
    "    matchID = soup.get_text().split(\"#\",1)[1]\n",
    "    dismissalBowlerHand.append({\n",
    "        \"hand\": \"left\",\n",
    "        \"id\": int(matchID)\n",
    "    })"
   ]
  },
  {
   "cell_type": "code",
   "execution_count": 21,
   "metadata": {},
   "outputs": [],
   "source": [
    "for match in won:\n",
    "    dataset.loc[dataset['matchID'] == match, 'won'] = True\n",
    "for match in captained:\n",
    "    dataset.loc[dataset['matchID'] == match, 'captained'] = True\n",
    "for match in batFirst:\n",
    "    dataset.loc[dataset['matchID'] == match, 'firstBat'] = True\n",
    "for match in dismissalType:\n",
    "    dataset.loc[dataset['matchID'] == match['id'], 'dismissalType'] = match['type']\n",
    "for match in dismissedAgainst:\n",
    "    dataset.loc[dataset['matchID'] == match['id'], 'dismissedAgainst'] = match['type']\n",
    "for match in dismissalBowlerHand:\n",
    "    dataset.loc[dataset['matchID'] == match['id'], 'dismissalBowlerHand'] = match['hand']\n",
    "for match in minutes:\n",
    "    dataset.loc[dataset['matchID'] == match['id'], 'minutes'] = match['min']\n",
    "for match in batPosition:\n",
    "    dataset.loc[dataset['matchID'] == match['id'], 'batPosition'] = match['pos']"
   ]
  },
  {
   "cell_type": "code",
   "execution_count": 22,
   "metadata": {},
   "outputs": [
    {
     "name": "stdout",
     "output_type": "stream",
     "text": [
      "     balls batPosition  captained         date  didNotBat dismissalBowlerHand  \\\n",
      "0       22           2      False  18 Aug 2008      False               right   \n",
      "1       67           2      False  20 Aug 2008      False                left   \n",
      "2       38           1      False  24 Aug 2008      False                None   \n",
      "3       66           1      False  27 Aug 2008      False                left   \n",
      "4       46           1      False  29 Aug 2008      False               right   \n",
      "5        2           7      False  14 Sep 2009      False                None   \n",
      "6       24           4      False  26 Sep 2009      False               right   \n",
      "7        0           -      False  28 Sep 2009       True                None   \n",
      "8      104           4      False  30 Sep 2009      False                None   \n",
      "9       41           4      False  25 Oct 2009      False                left   \n",
      "10      16           3      False   2 Nov 2009      False                left   \n",
      "11      19           7      False  15 Dec 2009      False                left   \n",
      "12      65           4      False  18 Dec 2009      False               right   \n",
      "13     114           4      False  24 Dec 2009      False               right   \n",
      "14       0           -      False  27 Dec 2009       True                None   \n",
      "15      12           3      False   5 Jan 2010      False                left   \n",
      "16     102           3      False   7 Jan 2010      False                left   \n",
      "17      68           3      False  10 Jan 2010      False                None   \n",
      "18      95           3      False  11 Jan 2010      False                None   \n",
      "19       8           3      False  13 Jan 2010      False                left   \n",
      "20      46           5      False  21 Feb 2010      False               right   \n",
      "21       0           -      False  24 Feb 2010       True                None   \n",
      "22      71           3      False  27 Feb 2010      False               right   \n",
      "23       0           3      False  28 May 2010      False                None   \n",
      "24      92           3      False  30 May 2010      False               right   \n",
      "25      29           3      False   3 Jun 2010      False               right   \n",
      "26      95           3      False   5 Jun 2010      False                left   \n",
      "27      22           3      False  16 Jun 2010      False                left   \n",
      "28      27           3      False  19 Jun 2010      False               right   \n",
      "29      14           3      False  22 Jun 2010      False               right   \n",
      "..     ...         ...        ...          ...        ...                 ...   \n",
      "202    119           3       True   1 Feb 2018      False               right   \n",
      "203     50           3       True   4 Feb 2018      False                None   \n",
      "204    159           3       True   7 Feb 2018      False                None   \n",
      "205     83           3       True  10 Feb 2018      False               right   \n",
      "206     54           3       True  13 Feb 2018      False                None   \n",
      "207     96           3       True  16 Feb 2018      False                None   \n",
      "208     82           3       True  12 Jul 2018      False               right   \n",
      "209     56           3       True  14 Jul 2018      False               right   \n",
      "210     72           3       True  17 Jul 2018      False               right   \n",
      "211    107           3       True  21 Oct 2018      False               right   \n",
      "212    129           3       True  24 Oct 2018      False                None   \n",
      "213    119           3       True  27 Oct 2018      False               right   \n",
      "214     17           3       True  29 Oct 2018      False               right   \n",
      "215     29           3       True   1 Nov 2018      False                None   \n",
      "216      8           3       True  12 Jan 2019      False               right   \n",
      "217    112           3       True  15 Jan 2019      False               right   \n",
      "218     62           3       True  18 Jan 2019      False               right   \n",
      "219     59           3       True  23 Jan 2019      False               right   \n",
      "220     45           3       True  26 Jan 2019      False                left   \n",
      "221     74           3       True  28 Jan 2019      False                left   \n",
      "222     45           3       True   2 Mar 2019      False               right   \n",
      "223    120           3       True   5 Mar 2019      False               right   \n",
      "224     95           3       True   8 Mar 2019      False               right   \n",
      "225      6           4       True  10 Mar 2019      False               right   \n",
      "226     22           3       True  13 Mar 2019      False               right   \n",
      "227     34           3       True   5 Jun 2019      False               right   \n",
      "228     77           3       True   9 Jun 2019      False               right   \n",
      "229     65           3       True  16 Jun 2019      False                left   \n",
      "230     63           3       True  22 Jun 2019      False               right   \n",
      "231     82           3       True  27 Jun 2019      False               right   \n",
      "\n",
      "    dismissalType dismissedAgainst  firstBat  fours              ground  \\\n",
      "0             lbw             pace      True      1            Dambulla   \n",
      "1          caught             pace     False      6            Dambulla   \n",
      "2         run out             None      True      4       Colombo (RPS)   \n",
      "3          bowled             pace      True      7       Colombo (RPS)   \n",
      "4             lbw             pace     False      3       Colombo (RPS)   \n",
      "5         not out             None      True      0       Colombo (RPS)   \n",
      "6          caught             spin     False      1           Centurion   \n",
      "7               -             None     False      0           Centurion   \n",
      "8         not out             None     False      9        Johannesburg   \n",
      "9          caught             spin     False      3            Vadodara   \n",
      "10         caught             pace     False      1              Mohali   \n",
      "11         bowled             pace      True      4              Rajkot   \n",
      "12            lbw             spin      True      7              Nagpur   \n",
      "13         caught             spin     False     11             Kolkata   \n",
      "14              -             None     False      0               Delhi   \n",
      "15         caught             pace      True      1               Dhaka   \n",
      "16         caught             spin     False      7               Dhaka   \n",
      "17        not out             None     False      9               Dhaka   \n",
      "18        not out             None     False     11               Dhaka   \n",
      "19         caught             pace      True      0               Dhaka   \n",
      "20         caught             pace      True      1              Jaipur   \n",
      "21              -             None      True      0             Gwalior   \n",
      "22         caught             pace     False      4           Ahmedabad   \n",
      "23        run out             None      True      0            Bulawayo   \n",
      "24         caught             spin     False      4            Bulawayo   \n",
      "25         caught             spin      True      1              Harare   \n",
      "26         caught             pace      True      5              Harare   \n",
      "27        stumped             spin     False      0            Dambulla   \n",
      "28         bowled             spin     False      1            Dambulla   \n",
      "29         caught             pace      True      1            Dambulla   \n",
      "..            ...              ...       ...    ...                 ...   \n",
      "202        caught             pace     False     10              Durban   \n",
      "203       not out             None     False      4           Centurion   \n",
      "204       not out             None      True     12           Cape Town   \n",
      "205        caught             pace      True      7        Johannesburg   \n",
      "206       run out             None      True      2      Port Elizabeth   \n",
      "207       not out             None     False     19           Centurion   \n",
      "208       stumped             spin     False      7          Nottingham   \n",
      "209           lbw             spin     False      2              Lord's   \n",
      "210        bowled             spin      True      8               Leeds   \n",
      "211       stumped             spin     False     21            Guwahati   \n",
      "212       not out             None      True     13       Visakhapatnam   \n",
      "213        bowled             spin     False     10                Pune   \n",
      "214        caught             pace      True      2         Mumbai (BS)   \n",
      "215       not out             None     False      6  Thiruvananthapuram   \n",
      "216        caught             pace     False      0              Sydney   \n",
      "217        caught             pace     False      5            Adelaide   \n",
      "218        caught             pace     False      3           Melbourne   \n",
      "219        caught             pace     False      3              Napier   \n",
      "220        caught             pace      True      5     Mount Maunganui   \n",
      "221        caught             pace     False      6     Mount Maunganui   \n",
      "222           lbw             spin     False      6  Hyderabad (Deccan)   \n",
      "223        caught             pace      True     10              Nagpur   \n",
      "224        bowled             spin     False     16              Ranchi   \n",
      "225        caught             pace      True      1              Mohali   \n",
      "226        caught             pace     False      2               Delhi   \n",
      "227        caught             pace     False      1         Southampton   \n",
      "228        caught             pace      True      4            The Oval   \n",
      "229        caught             pace      True      7          Manchester   \n",
      "230        caught             spin      True      5         Southampton   \n",
      "231        caught             pace      True      8          Manchester   \n",
      "\n",
      "     match  matchID minutes  notOut    opposition  runs  sixes  strikeRate  \\\n",
      "0        1     2742      33   False     Sri Lanka    12      0          54   \n",
      "1        2     2745      82   False     Sri Lanka    37      0          55   \n",
      "2        3     2750      40   False     Sri Lanka    25      0          65   \n",
      "3        4     2755      87   False     Sri Lanka    54      0          81   \n",
      "4        5     2756      45   False     Sri Lanka    31      1          67   \n",
      "5        6     2889       6    True     Sri Lanka     2      0         100   \n",
      "6        7     2898      28   False      Pakistan    16      0          66   \n",
      "7        8     2901       0    True     Australia     0      0           0   \n",
      "8        9     2904     121    True   West Indies    79      2          75   \n",
      "9       10     2913      53   False     Australia    30      0          73   \n",
      "10      11     2919      32   False     Australia    10      0          62   \n",
      "11      12     2932      20   False     Sri Lanka    27      0         142   \n",
      "12      13     2933      93   False     Sri Lanka    54      0          83   \n",
      "13      14     2935       0   False     Sri Lanka   107      1          93   \n",
      "14      15     2936       0    True     Sri Lanka     0      0           0   \n",
      "15      16     2938      19   False     Sri Lanka     9      0          75   \n",
      "16      17     2939     136   False    Bangladesh    91      0          89   \n",
      "17      18     2941      98    True     Sri Lanka    71      0         104   \n",
      "18      19     2942     128    True    Bangladesh   102      0         107   \n",
      "19      20     2943       6   False     Sri Lanka     2      0          25   \n",
      "20      21     2961       0   False  South Africa    31      0          67   \n",
      "21      22     2962       0    True  South Africa     0      0           0   \n",
      "22      23     2963       0   False  South Africa    57      1          80   \n",
      "23      24     2981       3   False      Zimbabwe     0      0          80   \n",
      "24      25     2983     125   False     Sri Lanka    82      0          89   \n",
      "25      26     2986      28   False      Zimbabwe    18      0          62   \n",
      "26      27     2988     123   False     Sri Lanka    68      0          71   \n",
      "27      28     2993      35   False    Bangladesh    11      0          50   \n",
      "28      29     2996      31   False      Pakistan    18      0          66   \n",
      "29      30     2999      13   False     Sri Lanka    10      0          71   \n",
      "..     ...      ...     ...     ...           ...   ...    ...         ...   \n",
      "202    203     3969     164   False  South Africa   112      0          94   \n",
      "203    204     3970      64    True  South Africa    46      1          92   \n",
      "204    205     3971     220    True  South Africa   160      2         100   \n",
      "205    206     3973     119   False  South Africa    75      1          90   \n",
      "206    207     3976      76   False  South Africa    36      0          66   \n",
      "207    208     3978     123    True  South Africa   129      2         134   \n",
      "208    209     4014       0   False       England    75      0          91   \n",
      "209    210     4016       0   False       England    45      0          80   \n",
      "210    211     4018      98   False       England    71      0          98   \n",
      "211    212     4056       0   False   West Indies   140      2         130   \n",
      "212    213     4059     217    True   West Indies   157      4         121   \n",
      "213    214     4062       0   False   West Indies   107      1          89   \n",
      "214    215     4063       0   False   West Indies    16      0          94   \n",
      "215    216     4064      57    True   West Indies    33      0         113   \n",
      "216    217     4077      10   False     Australia     3      0          37   \n",
      "217    218     4078     150   False     Australia   104      2          92   \n",
      "218    219     4079       0   False     Australia    46      0          74   \n",
      "219    220     4082      59   False   New Zealand    45      0          76   \n",
      "220    221     4085      59   False   New Zealand    43      0          95   \n",
      "221    222     4088      94   False   New Zealand    60      1          81   \n",
      "222    223     4102       0   False     Australia    44      1          97   \n",
      "223    224     4106       0   False     Australia   116      0          96   \n",
      "224    225     4109       0   False     Australia   123      1         129   \n",
      "225    226     4111       0   False     Australia     7      0         116   \n",
      "226    227     4113       0   False     Australia    20      0          90   \n",
      "227    228     4150      44   False  South Africa    18      0          52   \n",
      "228    229     4155     128   False     Australia    82      2         106   \n",
      "229    230     4161     105   False      Pakistan    77      0         118   \n",
      "230    231     4169     105   False   Afghanistan    67      0         106   \n",
      "231    232     4175     146   False   West Indies    72      0          87   \n",
      "\n",
      "      won  \n",
      "0    True  \n",
      "1    True  \n",
      "2    True  \n",
      "3    True  \n",
      "4    True  \n",
      "5    True  \n",
      "6    True  \n",
      "7    True  \n",
      "8    True  \n",
      "9    True  \n",
      "10   True  \n",
      "11   True  \n",
      "12   True  \n",
      "13   True  \n",
      "14   True  \n",
      "15   True  \n",
      "16   True  \n",
      "17   True  \n",
      "18   True  \n",
      "19   True  \n",
      "20   True  \n",
      "21   True  \n",
      "22   True  \n",
      "23   True  \n",
      "24   True  \n",
      "25   True  \n",
      "26   True  \n",
      "27   True  \n",
      "28   True  \n",
      "29   True  \n",
      "..    ...  \n",
      "202  True  \n",
      "203  True  \n",
      "204  True  \n",
      "205  True  \n",
      "206  True  \n",
      "207  True  \n",
      "208  True  \n",
      "209  True  \n",
      "210  True  \n",
      "211  True  \n",
      "212  True  \n",
      "213  True  \n",
      "214  True  \n",
      "215  True  \n",
      "216  True  \n",
      "217  True  \n",
      "218  True  \n",
      "219  True  \n",
      "220  True  \n",
      "221  True  \n",
      "222  True  \n",
      "223  True  \n",
      "224  True  \n",
      "225  True  \n",
      "226  True  \n",
      "227  True  \n",
      "228  True  \n",
      "229  True  \n",
      "230  True  \n",
      "231  True  \n",
      "\n",
      "[232 rows x 20 columns]\n"
     ]
    }
   ],
   "source": [
    "\n",
    "print(dataset)"
   ]
  },
  {
   "cell_type": "code",
   "execution_count": 25,
   "metadata": {},
   "outputs": [
    {
     "name": "stdout",
     "output_type": "stream",
     "text": [
      "[{\"balls\":22,\"batPosition\":\"2\",\"captained\":false,\"date\":\"18 Aug 2008\",\"didNotBat\":false,\"dismissalBowlerHand\":\"right\",\"dismissalType\":\"lbw\",\"dismissedAgainst\":\"pace\",\"firstBat\":true,\"fours\":1,\"ground\":\"Dambulla\",\"match\":1,\"matchID\":2742,\"minutes\":\"33\",\"notOut\":false,\"opposition\":\"Sri Lanka\",\"runs\":12,\"sixes\":0,\"strikeRate\":54,\"won\":true},{\"balls\":67,\"batPosition\":\"2\",\"captained\":false,\"date\":\"20 Aug 2008\",\"didNotBat\":false,\"dismissalBowlerHand\":\"left\",\"dismissalType\":\"caught\",\"dismissedAgainst\":\"pace\",\"firstBat\":false,\"fours\":6,\"ground\":\"Dambulla\",\"match\":2,\"matchID\":2745,\"minutes\":\"82\",\"notOut\":false,\"opposition\":\"Sri Lanka\",\"runs\":37,\"sixes\":0,\"strikeRate\":55,\"won\":true},{\"balls\":38,\"batPosition\":\"1\",\"captained\":false,\"date\":\"24 Aug 2008\",\"didNotBat\":false,\"dismissalBowlerHand\":null,\"dismissalType\":\"run out\",\"dismissedAgainst\":null,\"firstBat\":true,\"fours\":4,\"ground\":\"Colombo (RPS)\",\"match\":3,\"matchID\":2750,\"minutes\":\"40\",\"notOut\":false,\"opposition\":\"Sri Lanka\",\"runs\":25,\"sixes\":0,\"strikeRate\":65,\"won\":true},{\"balls\":66,\"batPosition\":\"1\",\"captained\":false,\"date\":\"27 Aug 2008\",\"didNotBat\":false,\"dismissalBowlerHand\":\"left\",\"dismissalType\":\"bowled\",\"dismissedAgainst\":\"pace\",\"firstBat\":true,\"fours\":7,\"ground\":\"Colombo (RPS)\",\"match\":4,\"matchID\":2755,\"minutes\":\"87\",\"notOut\":false,\"opposition\":\"Sri Lanka\",\"runs\":54,\"sixes\":0,\"strikeRate\":81,\"won\":true},{\"balls\":46,\"batPosition\":\"1\",\"captained\":false,\"date\":\"29 Aug 2008\",\"didNotBat\":false,\"dismissalBowlerHand\":\"right\",\"dismissalType\":\"lbw\",\"dismissedAgainst\":\"pace\",\"firstBat\":false,\"fours\":3,\"ground\":\"Colombo (RPS)\",\"match\":5,\"matchID\":2756,\"minutes\":\"45\",\"notOut\":false,\"opposition\":\"Sri Lanka\",\"runs\":31,\"sixes\":1,\"strikeRate\":67,\"won\":true},{\"balls\":2,\"batPosition\":\"7\",\"captained\":false,\"date\":\"14 Sep 2009\",\"didNotBat\":false,\"dismissalBowlerHand\":null,\"dismissalType\":\"not out\",\"dismissedAgainst\":null,\"firstBat\":true,\"fours\":0,\"ground\":\"Colombo (RPS)\",\"match\":6,\"matchID\":2889,\"minutes\":\"6\",\"notOut\":true,\"opposition\":\"Sri Lanka\",\"runs\":2,\"sixes\":0,\"strikeRate\":100,\"won\":true},{\"balls\":24,\"batPosition\":\"4\",\"captained\":false,\"date\":\"26 Sep 2009\",\"didNotBat\":false,\"dismissalBowlerHand\":\"right\",\"dismissalType\":\"caught\",\"dismissedAgainst\":\"spin\",\"firstBat\":false,\"fours\":1,\"ground\":\"Centurion\",\"match\":7,\"matchID\":2898,\"minutes\":\"28\",\"notOut\":false,\"opposition\":\"Pakistan\",\"runs\":16,\"sixes\":0,\"strikeRate\":66,\"won\":true},{\"balls\":0,\"batPosition\":\"-\",\"captained\":false,\"date\":\"28 Sep 2009\",\"didNotBat\":true,\"dismissalBowlerHand\":null,\"dismissalType\":\"-\",\"dismissedAgainst\":null,\"firstBat\":false,\"fours\":0,\"ground\":\"Centurion\",\"match\":8,\"matchID\":2901,\"minutes\":0,\"notOut\":true,\"opposition\":\"Australia\",\"runs\":0,\"sixes\":0,\"strikeRate\":0,\"won\":true},{\"balls\":104,\"batPosition\":\"4\",\"captained\":false,\"date\":\"30 Sep 2009\",\"didNotBat\":false,\"dismissalBowlerHand\":null,\"dismissalType\":\"not out\",\"dismissedAgainst\":null,\"firstBat\":false,\"fours\":9,\"ground\":\"Johannesburg\",\"match\":9,\"matchID\":2904,\"minutes\":\"121\",\"notOut\":true,\"opposition\":\"West Indies\",\"runs\":79,\"sixes\":2,\"strikeRate\":75,\"won\":true},{\"balls\":41,\"batPosition\":\"4\",\"captained\":false,\"date\":\"25 Oct 2009\",\"didNotBat\":false,\"dismissalBowlerHand\":\"left\",\"dismissalType\":\"caught\",\"dismissedAgainst\":\"spin\",\"firstBat\":false,\"fours\":3,\"ground\":\"Vadodara\",\"match\":10,\"matchID\":2913,\"minutes\":\"53\",\"notOut\":false,\"opposition\":\"Australia\",\"runs\":30,\"sixes\":0,\"strikeRate\":73,\"won\":true},{\"balls\":16,\"batPosition\":\"3\",\"captained\":false,\"date\":\"2 Nov 2009\",\"didNotBat\":false,\"dismissalBowlerHand\":\"left\",\"dismissalType\":\"caught\",\"dismissedAgainst\":\"pace\",\"firstBat\":false,\"fours\":1,\"ground\":\"Mohali\",\"match\":11,\"matchID\":2919,\"minutes\":\"32\",\"notOut\":false,\"opposition\":\"Australia\",\"runs\":10,\"sixes\":0,\"strikeRate\":62,\"won\":true},{\"balls\":19,\"batPosition\":\"7\",\"captained\":false,\"date\":\"15 Dec 2009\",\"didNotBat\":false,\"dismissalBowlerHand\":\"left\",\"dismissalType\":\"bowled\",\"dismissedAgainst\":\"pace\",\"firstBat\":true,\"fours\":4,\"ground\":\"Rajkot\",\"match\":12,\"matchID\":2932,\"minutes\":\"20\",\"notOut\":false,\"opposition\":\"Sri Lanka\",\"runs\":27,\"sixes\":0,\"strikeRate\":142,\"won\":true},{\"balls\":65,\"batPosition\":\"4\",\"captained\":false,\"date\":\"18 Dec 2009\",\"didNotBat\":false,\"dismissalBowlerHand\":\"right\",\"dismissalType\":\"lbw\",\"dismissedAgainst\":\"spin\",\"firstBat\":true,\"fours\":7,\"ground\":\"Nagpur\",\"match\":13,\"matchID\":2933,\"minutes\":\"93\",\"notOut\":false,\"opposition\":\"Sri Lanka\",\"runs\":54,\"sixes\":0,\"strikeRate\":83,\"won\":true},{\"balls\":114,\"batPosition\":\"4\",\"captained\":false,\"date\":\"24 Dec 2009\",\"didNotBat\":false,\"dismissalBowlerHand\":\"right\",\"dismissalType\":\"caught\",\"dismissedAgainst\":\"spin\",\"firstBat\":false,\"fours\":11,\"ground\":\"Kolkata\",\"match\":14,\"matchID\":2935,\"minutes\":0,\"notOut\":false,\"opposition\":\"Sri Lanka\",\"runs\":107,\"sixes\":1,\"strikeRate\":93,\"won\":true},{\"balls\":0,\"batPosition\":\"-\",\"captained\":false,\"date\":\"27 Dec 2009\",\"didNotBat\":true,\"dismissalBowlerHand\":null,\"dismissalType\":\"-\",\"dismissedAgainst\":null,\"firstBat\":false,\"fours\":0,\"ground\":\"Delhi\",\"match\":15,\"matchID\":2936,\"minutes\":0,\"notOut\":true,\"opposition\":\"Sri Lanka\",\"runs\":0,\"sixes\":0,\"strikeRate\":0,\"won\":true},{\"balls\":12,\"batPosition\":\"3\",\"captained\":false,\"date\":\"5 Jan 2010\",\"didNotBat\":false,\"dismissalBowlerHand\":\"left\",\"dismissalType\":\"caught\",\"dismissedAgainst\":\"pace\",\"firstBat\":true,\"fours\":1,\"ground\":\"Dhaka\",\"match\":16,\"matchID\":2938,\"minutes\":\"19\",\"notOut\":false,\"opposition\":\"Sri Lanka\",\"runs\":9,\"sixes\":0,\"strikeRate\":75,\"won\":true},{\"balls\":102,\"batPosition\":\"3\",\"captained\":false,\"date\":\"7 Jan 2010\",\"didNotBat\":false,\"dismissalBowlerHand\":\"left\",\"dismissalType\":\"caught\",\"dismissedAgainst\":\"spin\",\"firstBat\":false,\"fours\":7,\"ground\":\"Dhaka\",\"match\":17,\"matchID\":2939,\"minutes\":\"136\",\"notOut\":false,\"opposition\":\"Bangladesh\",\"runs\":91,\"sixes\":0,\"strikeRate\":89,\"won\":true},{\"balls\":68,\"batPosition\":\"3\",\"captained\":false,\"date\":\"10 Jan 2010\",\"didNotBat\":false,\"dismissalBowlerHand\":null,\"dismissalType\":\"not out\",\"dismissedAgainst\":null,\"firstBat\":false,\"fours\":9,\"ground\":\"Dhaka\",\"match\":18,\"matchID\":2941,\"minutes\":\"98\",\"notOut\":true,\"opposition\":\"Sri Lanka\",\"runs\":71,\"sixes\":0,\"strikeRate\":104,\"won\":true},{\"balls\":95,\"batPosition\":\"3\",\"captained\":false,\"date\":\"11 Jan 2010\",\"didNotBat\":false,\"dismissalBowlerHand\":null,\"dismissalType\":\"not out\",\"dismissedAgainst\":null,\"firstBat\":false,\"fours\":11,\"ground\":\"Dhaka\",\"match\":19,\"matchID\":2942,\"minutes\":\"128\",\"notOut\":true,\"opposition\":\"Bangladesh\",\"runs\":102,\"sixes\":0,\"strikeRate\":107,\"won\":true},{\"balls\":8,\"batPosition\":\"3\",\"captained\":false,\"date\":\"13 Jan 2010\",\"didNotBat\":false,\"dismissalBowlerHand\":\"left\",\"dismissalType\":\"caught\",\"dismissedAgainst\":\"pace\",\"firstBat\":true,\"fours\":0,\"ground\":\"Dhaka\",\"match\":20,\"matchID\":2943,\"minutes\":\"6\",\"notOut\":false,\"opposition\":\"Sri Lanka\",\"runs\":2,\"sixes\":0,\"strikeRate\":25,\"won\":true},{\"balls\":46,\"batPosition\":\"5\",\"captained\":false,\"date\":\"21 Feb 2010\",\"didNotBat\":false,\"dismissalBowlerHand\":\"right\",\"dismissalType\":\"caught\",\"dismissedAgainst\":\"pace\",\"firstBat\":true,\"fours\":1,\"ground\":\"Jaipur\",\"match\":21,\"matchID\":2961,\"minutes\":0,\"notOut\":false,\"opposition\":\"South Africa\",\"runs\":31,\"sixes\":0,\"strikeRate\":67,\"won\":true},{\"balls\":0,\"batPosition\":\"-\",\"captained\":false,\"date\":\"24 Feb 2010\",\"didNotBat\":true,\"dismissalBowlerHand\":null,\"dismissalType\":\"-\",\"dismissedAgainst\":null,\"firstBat\":true,\"fours\":0,\"ground\":\"Gwalior\",\"match\":22,\"matchID\":2962,\"minutes\":0,\"notOut\":true,\"opposition\":\"South Africa\",\"runs\":0,\"sixes\":0,\"strikeRate\":0,\"won\":true},{\"balls\":71,\"batPosition\":\"3\",\"captained\":false,\"date\":\"27 Feb 2010\",\"didNotBat\":false,\"dismissalBowlerHand\":\"right\",\"dismissalType\":\"caught\",\"dismissedAgainst\":\"pace\",\"firstBat\":false,\"fours\":4,\"ground\":\"Ahmedabad\",\"match\":23,\"matchID\":2963,\"minutes\":0,\"notOut\":false,\"opposition\":\"South Africa\",\"runs\":57,\"sixes\":1,\"strikeRate\":80,\"won\":true},{\"balls\":0,\"batPosition\":\"3\",\"captained\":false,\"date\":\"28 May 2010\",\"didNotBat\":false,\"dismissalBowlerHand\":null,\"dismissalType\":\"run out\",\"dismissedAgainst\":null,\"firstBat\":true,\"fours\":0,\"ground\":\"Bulawayo\",\"match\":24,\"matchID\":2981,\"minutes\":\"3\",\"notOut\":false,\"opposition\":\"Zimbabwe\",\"runs\":0,\"sixes\":0,\"strikeRate\":80,\"won\":true},{\"balls\":92,\"batPosition\":\"3\",\"captained\":false,\"date\":\"30 May 2010\",\"didNotBat\":false,\"dismissalBowlerHand\":\"right\",\"dismissalType\":\"caught\",\"dismissedAgainst\":\"spin\",\"firstBat\":false,\"fours\":4,\"ground\":\"Bulawayo\",\"match\":25,\"matchID\":2983,\"minutes\":\"125\",\"notOut\":false,\"opposition\":\"Sri Lanka\",\"runs\":82,\"sixes\":0,\"strikeRate\":89,\"won\":true},{\"balls\":29,\"batPosition\":\"3\",\"captained\":false,\"date\":\"3 Jun 2010\",\"didNotBat\":false,\"dismissalBowlerHand\":\"right\",\"dismissalType\":\"caught\",\"dismissedAgainst\":\"spin\",\"firstBat\":true,\"fours\":1,\"ground\":\"Harare\",\"match\":26,\"matchID\":2986,\"minutes\":\"28\",\"notOut\":false,\"opposition\":\"Zimbabwe\",\"runs\":18,\"sixes\":0,\"strikeRate\":62,\"won\":true},{\"balls\":95,\"batPosition\":\"3\",\"captained\":false,\"date\":\"5 Jun 2010\",\"didNotBat\":false,\"dismissalBowlerHand\":\"left\",\"dismissalType\":\"caught\",\"dismissedAgainst\":\"pace\",\"firstBat\":true,\"fours\":5,\"ground\":\"Harare\",\"match\":27,\"matchID\":2988,\"minutes\":\"123\",\"notOut\":false,\"opposition\":\"Sri Lanka\",\"runs\":68,\"sixes\":0,\"strikeRate\":71,\"won\":true},{\"balls\":22,\"batPosition\":\"3\",\"captained\":false,\"date\":\"16 Jun 2010\",\"didNotBat\":false,\"dismissalBowlerHand\":\"left\",\"dismissalType\":\"stumped\",\"dismissedAgainst\":\"spin\",\"firstBat\":false,\"fours\":0,\"ground\":\"Dambulla\",\"match\":28,\"matchID\":2993,\"minutes\":\"35\",\"notOut\":false,\"opposition\":\"Bangladesh\",\"runs\":11,\"sixes\":0,\"strikeRate\":50,\"won\":true},{\"balls\":27,\"batPosition\":\"3\",\"captained\":false,\"date\":\"19 Jun 2010\",\"didNotBat\":false,\"dismissalBowlerHand\":\"right\",\"dismissalType\":\"bowled\",\"dismissedAgainst\":\"spin\",\"firstBat\":false,\"fours\":1,\"ground\":\"Dambulla\",\"match\":29,\"matchID\":2996,\"minutes\":\"31\",\"notOut\":false,\"opposition\":\"Pakistan\",\"runs\":18,\"sixes\":0,\"strikeRate\":66,\"won\":true},{\"balls\":14,\"batPosition\":\"3\",\"captained\":false,\"date\":\"22 Jun 2010\",\"didNotBat\":false,\"dismissalBowlerHand\":\"right\",\"dismissalType\":\"caught\",\"dismissedAgainst\":\"pace\",\"firstBat\":true,\"fours\":1,\"ground\":\"Dambulla\",\"match\":30,\"matchID\":2999,\"minutes\":\"13\",\"notOut\":false,\"opposition\":\"Sri Lanka\",\"runs\":10,\"sixes\":0,\"strikeRate\":71,\"won\":true},{\"balls\":34,\"batPosition\":\"3\",\"captained\":false,\"date\":\"24 Jun 2010\",\"didNotBat\":false,\"dismissalBowlerHand\":\"right\",\"dismissalType\":\"caught\",\"dismissedAgainst\":\"pace\",\"firstBat\":true,\"fours\":4,\"ground\":\"Dambulla\",\"match\":31,\"matchID\":3001,\"minutes\":\"57\",\"notOut\":false,\"opposition\":\"Sri Lanka\",\"runs\":28,\"sixes\":0,\"strikeRate\":82,\"won\":true},{\"balls\":3,\"batPosition\":\"3\",\"captained\":false,\"date\":\"16 Aug 2010\",\"didNotBat\":false,\"dismissalBowlerHand\":\"right\",\"dismissalType\":\"caught\",\"dismissedAgainst\":\"pace\",\"firstBat\":false,\"fours\":0,\"ground\":\"Dambulla\",\"match\":32,\"matchID\":3032,\"minutes\":\"5\",\"notOut\":false,\"opposition\":\"Sri Lanka\",\"runs\":0,\"sixes\":0,\"strikeRate\":0,\"won\":true},{\"balls\":16,\"batPosition\":\"3\",\"captained\":false,\"date\":\"25 Aug 2010\",\"didNotBat\":false,\"dismissalBowlerHand\":\"right\",\"dismissalType\":\"caught\",\"dismissedAgainst\":\"pace\",\"firstBat\":true,\"fours\":1,\"ground\":\"Dambulla\",\"match\":33,\"matchID\":3039,\"minutes\":\"22\",\"notOut\":false,\"opposition\":\"New Zealand\",\"runs\":8,\"sixes\":0,\"strikeRate\":50,\"won\":true},{\"balls\":57,\"batPosition\":\"3\",\"captained\":false,\"date\":\"28 Aug 2010\",\"didNotBat\":false,\"dismissalBowlerHand\":\"right\",\"dismissalType\":\"caught\",\"dismissedAgainst\":\"pace\",\"firstBat\":false,\"fours\":5,\"ground\":\"Dambulla\",\"match\":34,\"matchID\":3040,\"minutes\":\"98\",\"notOut\":false,\"opposition\":\"Sri Lanka\",\"runs\":37,\"sixes\":0,\"strikeRate\":64,\"won\":true},{\"balls\":121,\"batPosition\":\"3\",\"captained\":false,\"date\":\"20 Oct 2010\",\"didNotBat\":false,\"dismissalBowlerHand\":\"right\",\"dismissalType\":\"caught\",\"dismissedAgainst\":\"pace\",\"firstBat\":false,\"fours\":11,\"ground\":\"Visakhapatnam\",\"match\":35,\"matchID\":3060,\"minutes\":\"193\",\"notOut\":false,\"opposition\":\"Australia\",\"runs\":118,\"sixes\":1,\"strikeRate\":97,\"won\":true},{\"balls\":104,\"batPosition\":\"3\",\"captained\":false,\"date\":\"28 Nov 2010\",\"didNotBat\":false,\"dismissalBowlerHand\":\"left\",\"dismissalType\":\"caught\",\"dismissedAgainst\":\"pace\",\"firstBat\":true,\"fours\":10,\"ground\":\"Guwahati\",\"match\":36,\"matchID\":3070,\"minutes\":\"162\",\"notOut\":false,\"opposition\":\"New Zealand\",\"runs\":105,\"sixes\":0,\"strikeRate\":100,\"won\":true},{\"balls\":73,\"batPosition\":\"3\",\"captained\":false,\"date\":\"1 Dec 2010\",\"didNotBat\":false,\"dismissalBowlerHand\":\"left\",\"dismissalType\":\"caught\",\"dismissedAgainst\":\"pace\",\"firstBat\":false,\"fours\":8,\"ground\":\"Jaipur\",\"match\":37,\"matchID\":3072,\"minutes\":\"78\",\"notOut\":false,\"opposition\":\"New Zealand\",\"runs\":64,\"sixes\":0,\"strikeRate\":87,\"won\":true},{\"balls\":70,\"batPosition\":\"3\",\"captained\":false,\"date\":\"4 Dec 2010\",\"didNotBat\":false,\"dismissalBowlerHand\":null,\"dismissalType\":\"not out\",\"dismissedAgainst\":null,\"firstBat\":false,\"fours\":6,\"ground\":\"Vadodara\",\"match\":38,\"matchID\":3074,\"minutes\":\"83\",\"notOut\":true,\"opposition\":\"New Zealand\",\"runs\":63,\"sixes\":2,\"strikeRate\":90,\"won\":true},{\"balls\":2,\"batPosition\":\"3\",\"captained\":false,\"date\":\"7 Dec 2010\",\"didNotBat\":false,\"dismissalBowlerHand\":\"left\",\"dismissalType\":\"caught\",\"dismissedAgainst\":\"pace\",\"firstBat\":false,\"fours\":0,\"ground\":\"Bengaluru\",\"match\":39,\"matchID\":3076,\"minutes\":\"3\",\"notOut\":false,\"opposition\":\"New Zealand\",\"runs\":0,\"sixes\":0,\"strikeRate\":0,\"won\":true},{\"balls\":8,\"batPosition\":\"3\",\"captained\":false,\"date\":\"10 Dec 2010\",\"didNotBat\":false,\"dismissalBowlerHand\":\"left\",\"dismissalType\":\"caught\",\"dismissedAgainst\":\"spin\",\"firstBat\":false,\"fours\":0,\"ground\":\"Chennai\",\"match\":40,\"matchID\":3077,\"minutes\":\"10\",\"notOut\":false,\"opposition\":\"New Zealand\",\"runs\":2,\"sixes\":0,\"strikeRate\":25,\"won\":true},{\"balls\":70,\"batPosition\":\"3\",\"captained\":false,\"date\":\"12 Jan 2011\",\"didNotBat\":false,\"dismissalBowlerHand\":\"right\",\"dismissalType\":\"caught\",\"dismissedAgainst\":\"pace\",\"firstBat\":false,\"fours\":2,\"ground\":\"Durban\",\"match\":41,\"matchID\":3079,\"minutes\":\"122\",\"notOut\":false,\"opposition\":\"South Africa\",\"runs\":54,\"sixes\":1,\"strikeRate\":77,\"won\":true},{\"balls\":34,\"batPosition\":\"3\",\"captained\":false,\"date\":\"15 Jan 2011\",\"didNotBat\":false,\"dismissalBowlerHand\":null,\"dismissalType\":\"run out\",\"dismissedAgainst\":null,\"firstBat\":true,\"fours\":1,\"ground\":\"Johannesburg\",\"match\":42,\"matchID\":3080,\"minutes\":\"43\",\"notOut\":false,\"opposition\":\"South Africa\",\"runs\":22,\"sixes\":0,\"strikeRate\":64,\"won\":true},{\"balls\":41,\"batPosition\":\"3\",\"captained\":false,\"date\":\"18 Jan 2011\",\"didNotBat\":false,\"dismissalBowlerHand\":\"right\",\"dismissalType\":\"caught\",\"dismissedAgainst\":\"pace\",\"firstBat\":false,\"fours\":5,\"ground\":\"Cape Town\",\"match\":43,\"matchID\":3082,\"minutes\":\"51\",\"notOut\":false,\"opposition\":\"South Africa\",\"runs\":28,\"sixes\":0,\"strikeRate\":68,\"won\":true},{\"balls\":92,\"batPosition\":\"3\",\"captained\":false,\"date\":\"21 Jan 2011\",\"didNotBat\":false,\"dismissalBowlerHand\":null,\"dismissalType\":\"not out\",\"dismissedAgainst\":null,\"firstBat\":false,\"fours\":7,\"ground\":\"Port Elizabeth\",\"match\":44,\"matchID\":3084,\"minutes\":\"126\",\"notOut\":true,\"opposition\":\"South Africa\",\"runs\":87,\"sixes\":2,\"strikeRate\":94,\"won\":true},{\"balls\":6,\"batPosition\":\"3\",\"captained\":false,\"date\":\"23 Jan 2011\",\"didNotBat\":false,\"dismissalBowlerHand\":\"right\",\"dismissalType\":\"caught\",\"dismissedAgainst\":\"pace\",\"firstBat\":false,\"fours\":0,\"ground\":\"Centurion\",\"match\":45,\"matchID\":3087,\"minutes\":\"11\",\"notOut\":false,\"opposition\":\"South Africa\",\"runs\":2,\"sixes\":0,\"strikeRate\":33,\"won\":true},{\"balls\":83,\"batPosition\":\"4\",\"captained\":false,\"date\":\"19 Feb 2011\",\"didNotBat\":false,\"dismissalBowlerHand\":null,\"dismissalType\":\"not out\",\"dismissedAgainst\":null,\"firstBat\":true,\"fours\":8,\"ground\":\"Dhaka\",\"match\":46,\"matchID\":3100,\"minutes\":\"113\",\"notOut\":true,\"opposition\":\"Bangladesh\",\"runs\":100,\"sixes\":2,\"strikeRate\":120,\"won\":true},{\"balls\":5,\"batPosition\":\"7\",\"captained\":false,\"date\":\"27 Feb 2011\",\"didNotBat\":false,\"dismissalBowlerHand\":\"right\",\"dismissalType\":\"bowled\",\"dismissedAgainst\":\"pace\",\"firstBat\":true,\"fours\":1,\"ground\":\"Bengaluru\",\"match\":47,\"matchID\":3110,\"minutes\":\"12\",\"notOut\":false,\"opposition\":\"England\",\"runs\":8,\"sixes\":0,\"strikeRate\":160,\"won\":true},{\"balls\":53,\"batPosition\":\"4\",\"captained\":false,\"date\":\"6 Mar 2011\",\"didNotBat\":false,\"dismissalBowlerHand\":null,\"dismissalType\":\"run out\",\"dismissedAgainst\":null,\"firstBat\":false,\"fours\":3,\"ground\":\"Bengaluru\",\"match\":48,\"matchID\":3121,\"minutes\":\"82\",\"notOut\":false,\"opposition\":\"Ireland\",\"runs\":34,\"sixes\":0,\"strikeRate\":64,\"won\":true},{\"balls\":20,\"batPosition\":\"5\",\"captained\":false,\"date\":\"9 Mar 2011\",\"didNotBat\":false,\"dismissalBowlerHand\":\"right\",\"dismissalType\":\"bowled\",\"dismissedAgainst\":\"pace\",\"firstBat\":false,\"fours\":2,\"ground\":\"Delhi\",\"match\":49,\"matchID\":3124,\"minutes\":\"16\",\"notOut\":false,\"opposition\":\"Netherlands\",\"runs\":12,\"sixes\":0,\"strikeRate\":60,\"won\":true},{\"balls\":3,\"batPosition\":\"7\",\"captained\":false,\"date\":\"12 Mar 2011\",\"didNotBat\":false,\"dismissalBowlerHand\":\"left\",\"dismissalType\":\"caught\",\"dismissedAgainst\":\"spin\",\"firstBat\":true,\"fours\":0,\"ground\":\"Nagpur\",\"match\":50,\"matchID\":3128,\"minutes\":\"2\",\"notOut\":false,\"opposition\":\"South Africa\",\"runs\":1,\"sixes\":0,\"strikeRate\":33,\"won\":true},{\"balls\":76,\"batPosition\":\"3\",\"captained\":false,\"date\":\"20 Mar 2011\",\"didNotBat\":false,\"dismissalBowlerHand\":\"right\",\"dismissalType\":\"bowled\",\"dismissedAgainst\":\"pace\",\"firstBat\":true,\"fours\":5,\"ground\":\"Chennai\",\"match\":51,\"matchID\":3141,\"minutes\":\"128\",\"notOut\":false,\"opposition\":\"West Indies\",\"runs\":59,\"sixes\":0,\"strikeRate\":77,\"won\":true},{\"balls\":33,\"batPosition\":\"4\",\"captained\":false,\"date\":\"24 Mar 2011\",\"didNotBat\":false,\"dismissalBowlerHand\":\"right\",\"dismissalType\":\"caught\",\"dismissedAgainst\":\"spin\",\"firstBat\":false,\"fours\":1,\"ground\":\"Ahmedabad\",\"match\":52,\"matchID\":3143,\"minutes\":\"38\",\"notOut\":false,\"opposition\":\"Australia\",\"runs\":24,\"sixes\":0,\"strikeRate\":72,\"won\":true},{\"balls\":21,\"batPosition\":\"4\",\"captained\":false,\"date\":\"30 Mar 2011\",\"didNotBat\":false,\"dismissalBowlerHand\":\"left\",\"dismissalType\":\"caught\",\"dismissedAgainst\":\"pace\",\"firstBat\":true,\"fours\":0,\"ground\":\"Mohali\",\"match\":53,\"matchID\":3147,\"minutes\":\"20\",\"notOut\":false,\"opposition\":\"Pakistan\",\"runs\":9,\"sixes\":0,\"strikeRate\":42,\"won\":true},{\"balls\":49,\"batPosition\":\"4\",\"captained\":false,\"date\":\"2 Apr 2011\",\"didNotBat\":false,\"dismissalBowlerHand\":\"right\",\"dismissalType\":\"caught\",\"dismissedAgainst\":\"spin\",\"firstBat\":false,\"fours\":4,\"ground\":\"Mumbai\",\"match\":54,\"matchID\":3148,\"minutes\":\"69\",\"notOut\":false,\"opposition\":\"Sri Lanka\",\"runs\":35,\"sixes\":0,\"strikeRate\":71,\"won\":true},{\"balls\":8,\"batPosition\":\"3\",\"captained\":false,\"date\":\"6 Jun 2011\",\"didNotBat\":false,\"dismissalBowlerHand\":\"right\",\"dismissalType\":\"caught\",\"dismissedAgainst\":\"pace\",\"firstBat\":false,\"fours\":0,\"ground\":\"Port of Spain\",\"match\":55,\"matchID\":3159,\"minutes\":\"5\",\"notOut\":false,\"opposition\":\"West Indies\",\"runs\":2,\"sixes\":0,\"strikeRate\":25,\"won\":true},{\"balls\":103,\"batPosition\":\"3\",\"captained\":false,\"date\":\"8 Jun 2011\",\"didNotBat\":false,\"dismissalBowlerHand\":\"right\",\"dismissalType\":\"caught\",\"dismissedAgainst\":\"spin\",\"firstBat\":false,\"fours\":6,\"ground\":\"Port of Spain\",\"match\":56,\"matchID\":3160,\"minutes\":\"118\",\"notOut\":false,\"opposition\":\"West Indies\",\"runs\":81,\"sixes\":1,\"strikeRate\":78,\"won\":true},{\"balls\":1,\"batPosition\":\"3\",\"captained\":false,\"date\":\"11 Jun 2011\",\"didNotBat\":false,\"dismissalBowlerHand\":\"right\",\"dismissalType\":\"lbw\",\"dismissedAgainst\":\"pace\",\"firstBat\":false,\"fours\":0,\"ground\":\"North Sound\",\"match\":57,\"matchID\":3161,\"minutes\":\"1\",\"notOut\":false,\"opposition\":\"West Indies\",\"runs\":0,\"sixes\":0,\"strikeRate\":0,\"won\":true},{\"balls\":33,\"batPosition\":\"3\",\"captained\":false,\"date\":\"13 Jun 2011\",\"didNotBat\":false,\"dismissalBowlerHand\":\"right\",\"dismissalType\":\"stumped\",\"dismissedAgainst\":\"spin\",\"firstBat\":false,\"fours\":1,\"ground\":\"North Sound\",\"match\":58,\"matchID\":3162,\"minutes\":\"68\",\"notOut\":false,\"opposition\":\"West Indies\",\"runs\":22,\"sixes\":0,\"strikeRate\":66,\"won\":true},{\"balls\":104,\"batPosition\":\"3\",\"captained\":false,\"date\":\"16 Jun 2011\",\"didNotBat\":false,\"dismissalBowlerHand\":null,\"dismissalType\":\"run out\",\"dismissedAgainst\":null,\"firstBat\":true,\"fours\":10,\"ground\":\"Kingston\",\"match\":59,\"matchID\":3163,\"minutes\":\"135\",\"notOut\":false,\"opposition\":\"West Indies\",\"runs\":94,\"sixes\":0,\"strikeRate\":90,\"won\":true},{\"balls\":73,\"batPosition\":\"4\",\"captained\":false,\"date\":\"3 Sep 2011\",\"didNotBat\":false,\"dismissalBowlerHand\":\"left\",\"dismissalType\":\"bowled\",\"dismissedAgainst\":\"spin\",\"firstBat\":true,\"fours\":4,\"ground\":\"Chester-le-Street\",\"match\":60,\"matchID\":3186,\"minutes\":\"92\",\"notOut\":false,\"opposition\":\"England\",\"runs\":55,\"sixes\":0,\"strikeRate\":75,\"won\":true},{\"balls\":9,\"batPosition\":\"4\",\"captained\":false,\"date\":\"6 Sep 2011\",\"didNotBat\":false,\"dismissalBowlerHand\":\"right\",\"dismissalType\":\"caught\",\"dismissedAgainst\":\"spin\",\"firstBat\":true,\"fours\":0,\"ground\":\"Southampton\",\"match\":61,\"matchID\":3187,\"minutes\":\"9\",\"notOut\":false,\"opposition\":\"England\",\"runs\":9,\"sixes\":0,\"strikeRate\":100,\"won\":true},{\"balls\":18,\"batPosition\":\"4\",\"captained\":false,\"date\":\"9 Sep 2011\",\"didNotBat\":false,\"dismissalBowlerHand\":\"right\",\"dismissalType\":\"caught\",\"dismissedAgainst\":\"pace\",\"firstBat\":true,\"fours\":0,\"ground\":\"The Oval\",\"match\":62,\"matchID\":3189,\"minutes\":\"18\",\"notOut\":false,\"opposition\":\"England\",\"runs\":7,\"sixes\":0,\"strikeRate\":38,\"won\":true},{\"balls\":36,\"batPosition\":\"4\",\"captained\":false,\"date\":\"11 Sep 2011\",\"didNotBat\":false,\"dismissalBowlerHand\":\"right\",\"dismissalType\":\"caught\",\"dismissedAgainst\":\"spin\",\"firstBat\":true,\"fours\":1,\"ground\":\"Lord's\",\"match\":63,\"matchID\":3191,\"minutes\":\"40\",\"notOut\":false,\"opposition\":\"England\",\"runs\":16,\"sixes\":0,\"strikeRate\":44,\"won\":true},{\"balls\":93,\"batPosition\":\"4\",\"captained\":false,\"date\":\"16 Sep 2011\",\"didNotBat\":false,\"dismissalBowlerHand\":\"right\",\"dismissalType\":\"hit wicket\",\"dismissedAgainst\":\"spin\",\"firstBat\":true,\"fours\":9,\"ground\":\"Cardiff\",\"match\":64,\"matchID\":3195,\"minutes\":\"102\",\"notOut\":false,\"opposition\":\"England\",\"runs\":107,\"sixes\":1,\"strikeRate\":115,\"won\":true},{\"balls\":63,\"batPosition\":\"4\",\"captained\":false,\"date\":\"14 Oct 2011\",\"didNotBat\":false,\"dismissalBowlerHand\":\"left\",\"dismissalType\":\"caught\",\"dismissedAgainst\":\"spin\",\"firstBat\":true,\"fours\":0,\"ground\":\"Hyderabad (Deccan)\",\"match\":65,\"matchID\":3199,\"minutes\":\"70\",\"notOut\":false,\"opposition\":\"England\",\"runs\":37,\"sixes\":0,\"strikeRate\":58,\"won\":true},{\"balls\":98,\"batPosition\":\"4\",\"captained\":false,\"date\":\"17 Oct 2011\",\"didNotBat\":false,\"dismissalBowlerHand\":null,\"dismissalType\":\"not out\",\"dismissedAgainst\":null,\"firstBat\":false,\"fours\":16,\"ground\":\"Delhi\",\"match\":66,\"matchID\":3201,\"minutes\":\"134\",\"notOut\":true,\"opposition\":\"England\",\"runs\":112,\"sixes\":0,\"strikeRate\":114,\"won\":true},{\"balls\":30,\"batPosition\":\"4\",\"captained\":false,\"date\":\"20 Oct 2011\",\"didNotBat\":false,\"dismissalBowlerHand\":\"right\",\"dismissalType\":\"lbw\",\"dismissedAgainst\":\"spin\",\"firstBat\":false,\"fours\":5,\"ground\":\"Mohali\",\"match\":67,\"matchID\":3205,\"minutes\":\"42\",\"notOut\":false,\"opposition\":\"England\",\"runs\":35,\"sixes\":0,\"strikeRate\":116,\"won\":true},{\"balls\":99,\"batPosition\":\"4\",\"captained\":false,\"date\":\"23 Oct 2011\",\"didNotBat\":false,\"dismissalBowlerHand\":null,\"dismissalType\":\"not out\",\"dismissedAgainst\":null,\"firstBat\":false,\"fours\":11,\"ground\":\"Mumbai\",\"match\":68,\"matchID\":3207,\"minutes\":0,\"notOut\":true,\"opposition\":\"England\",\"runs\":86,\"sixes\":0,\"strikeRate\":86,\"won\":true},{\"balls\":5,\"batPosition\":\"3\",\"captained\":false,\"date\":\"25 Oct 2011\",\"didNotBat\":false,\"dismissalBowlerHand\":\"right\",\"dismissalType\":\"bowled\",\"dismissedAgainst\":\"pace\",\"firstBat\":true,\"fours\":0,\"ground\":\"Kolkata\",\"match\":69,\"matchID\":3210,\"minutes\":\"5\",\"notOut\":false,\"opposition\":\"England\",\"runs\":0,\"sixes\":0,\"strikeRate\":0,\"won\":true},{\"balls\":6,\"batPosition\":\"4\",\"captained\":false,\"date\":\"29 Nov 2011\",\"didNotBat\":false,\"dismissalBowlerHand\":\"right\",\"dismissalType\":\"bowled\",\"dismissedAgainst\":\"pace\",\"firstBat\":false,\"fours\":0,\"ground\":\"Cuttack\",\"match\":70,\"matchID\":3217,\"minutes\":\"13\",\"notOut\":false,\"opposition\":\"West Indies\",\"runs\":3,\"sixes\":0,\"strikeRate\":50,\"won\":true},{\"balls\":123,\"batPosition\":\"4\",\"captained\":false,\"date\":\"2 Dec 2011\",\"didNotBat\":false,\"dismissalBowlerHand\":\"right\",\"dismissalType\":\"caught\",\"dismissedAgainst\":\"pace\",\"firstBat\":false,\"fours\":14,\"ground\":\"Visakhapatnam\",\"match\":71,\"matchID\":3219,\"minutes\":\"154\",\"notOut\":false,\"opposition\":\"West Indies\",\"runs\":117,\"sixes\":0,\"strikeRate\":95,\"won\":true},{\"balls\":30,\"batPosition\":\"4\",\"captained\":false,\"date\":\"5 Dec 2011\",\"didNotBat\":false,\"dismissalBowlerHand\":\"right\",\"dismissalType\":\"lbw\",\"dismissedAgainst\":\"spin\",\"firstBat\":false,\"fours\":3,\"ground\":\"Ahmedabad\",\"match\":72,\"matchID\":3221,\"minutes\":\"21\",\"notOut\":false,\"opposition\":\"West Indies\",\"runs\":20,\"sixes\":0,\"strikeRate\":66,\"won\":true},{\"balls\":11,\"batPosition\":\"6\",\"captained\":false,\"date\":\"8 Dec 2011\",\"didNotBat\":false,\"dismissalBowlerHand\":null,\"dismissalType\":\"not out\",\"dismissedAgainst\":null,\"firstBat\":true,\"fours\":3,\"ground\":\"Indore\",\"match\":73,\"matchID\":3223,\"minutes\":\"15\",\"notOut\":true,\"opposition\":\"West Indies\",\"runs\":23,\"sixes\":0,\"strikeRate\":209,\"won\":true},{\"balls\":85,\"batPosition\":\"5\",\"captained\":false,\"date\":\"11 Dec 2011\",\"didNotBat\":false,\"dismissalBowlerHand\":\"right\",\"dismissalType\":\"caught\",\"dismissedAgainst\":\"spin\",\"firstBat\":true,\"fours\":5,\"ground\":\"Chennai\",\"match\":74,\"matchID\":3224,\"minutes\":\"99\",\"notOut\":false,\"opposition\":\"West Indies\",\"runs\":80,\"sixes\":0,\"strikeRate\":94,\"won\":true},{\"balls\":34,\"batPosition\":\"3\",\"captained\":false,\"date\":\"5 Feb 2012\",\"didNotBat\":false,\"dismissalBowlerHand\":\"right\",\"dismissalType\":\"caught\",\"dismissedAgainst\":\"pace\",\"firstBat\":false,\"fours\":3,\"ground\":\"Melbourne\",\"match\":75,\"matchID\":3231,\"minutes\":\"30\",\"notOut\":false,\"opposition\":\"Australia\",\"runs\":31,\"sixes\":0,\"strikeRate\":91,\"won\":true},{\"balls\":94,\"batPosition\":\"3\",\"captained\":false,\"date\":\"8 Feb 2012\",\"didNotBat\":false,\"dismissalBowlerHand\":null,\"dismissalType\":\"run out\",\"dismissedAgainst\":null,\"firstBat\":false,\"fours\":8,\"ground\":\"Perth\",\"match\":76,\"matchID\":3233,\"minutes\":\"156\",\"notOut\":false,\"opposition\":\"Sri Lanka\",\"runs\":77,\"sixes\":1,\"strikeRate\":81,\"won\":true},{\"balls\":28,\"batPosition\":\"3\",\"captained\":false,\"date\":\"12 Feb 2012\",\"didNotBat\":false,\"dismissalBowlerHand\":\"right\",\"dismissalType\":\"caught\",\"dismissedAgainst\":\"pace\",\"firstBat\":false,\"fours\":1,\"ground\":\"Adelaide\",\"match\":77,\"matchID\":3237,\"minutes\":\"41\",\"notOut\":false,\"opposition\":\"Australia\",\"runs\":18,\"sixes\":0,\"strikeRate\":64,\"won\":true},{\"balls\":25,\"batPosition\":\"3\",\"captained\":false,\"date\":\"14 Feb 2012\",\"didNotBat\":false,\"dismissalBowlerHand\":\"right\",\"dismissalType\":\"lbw\",\"dismissedAgainst\":\"pace\",\"firstBat\":false,\"fours\":1,\"ground\":\"Adelaide\",\"match\":78,\"matchID\":3239,\"minutes\":\"32\",\"notOut\":false,\"opposition\":\"Sri Lanka\",\"runs\":15,\"sixes\":0,\"strikeRate\":60,\"won\":true},{\"balls\":25,\"batPosition\":\"3\",\"captained\":false,\"date\":\"19 Feb 2012\",\"didNotBat\":false,\"dismissalBowlerHand\":\"right\",\"dismissalType\":\"caught\",\"dismissedAgainst\":\"pace\",\"firstBat\":false,\"fours\":0,\"ground\":\"Brisbane\",\"match\":79,\"matchID\":3244,\"minutes\":\"44\",\"notOut\":false,\"opposition\":\"Australia\",\"runs\":12,\"sixes\":0,\"strikeRate\":48,\"won\":true},{\"balls\":83,\"batPosition\":\"4\",\"captained\":false,\"date\":\"21 Feb 2012\",\"didNotBat\":false,\"dismissalBowlerHand\":\"right\",\"dismissalType\":\"caught\",\"dismissedAgainst\":\"pace\",\"firstBat\":false,\"fours\":2,\"ground\":\"Brisbane\",\"match\":80,\"matchID\":3246,\"minutes\":\"116\",\"notOut\":false,\"opposition\":\"Sri Lanka\",\"runs\":66,\"sixes\":0,\"strikeRate\":79,\"won\":true},{\"balls\":27,\"batPosition\":\"4\",\"captained\":false,\"date\":\"26 Feb 2012\",\"didNotBat\":false,\"dismissalBowlerHand\":\"right\",\"dismissalType\":\"caught\",\"dismissedAgainst\":\"pace\",\"firstBat\":false,\"fours\":2,\"ground\":\"Sydney\",\"match\":81,\"matchID\":3250,\"minutes\":\"36\",\"notOut\":false,\"opposition\":\"Australia\",\"runs\":21,\"sixes\":0,\"strikeRate\":77,\"won\":true},{\"balls\":86,\"batPosition\":\"4\",\"captained\":false,\"date\":\"28 Feb 2012\",\"didNotBat\":false,\"dismissalBowlerHand\":null,\"dismissalType\":\"not out\",\"dismissedAgainst\":null,\"firstBat\":false,\"fours\":16,\"ground\":\"Hobart\",\"match\":82,\"matchID\":3251,\"minutes\":\"133\",\"notOut\":true,\"opposition\":\"Sri Lanka\",\"runs\":133,\"sixes\":2,\"strikeRate\":154,\"won\":true},{\"balls\":120,\"batPosition\":\"3\",\"captained\":false,\"date\":\"13 Mar 2012\",\"didNotBat\":false,\"dismissalBowlerHand\":\"right\",\"dismissalType\":\"caught\",\"dismissedAgainst\":\"pace\",\"firstBat\":true,\"fours\":7,\"ground\":\"Dhaka\",\"match\":83,\"matchID\":3259,\"minutes\":\"148\",\"notOut\":false,\"opposition\":\"Sri Lanka\",\"runs\":108,\"sixes\":0,\"strikeRate\":90,\"won\":true},{\"balls\":82,\"batPosition\":\"3\",\"captained\":false,\"date\":\"16 Mar 2012\",\"didNotBat\":false,\"dismissalBowlerHand\":\"left\",\"dismissalType\":\"bowled\",\"dismissedAgainst\":\"spin\",\"firstBat\":true,\"fours\":5,\"ground\":\"Dhaka\",\"match\":84,\"matchID\":3261,\"minutes\":\"126\",\"notOut\":false,\"opposition\":\"Bangladesh\",\"runs\":66,\"sixes\":0,\"strikeRate\":80,\"won\":true},{\"balls\":148,\"batPosition\":\"3\",\"captained\":false,\"date\":\"18 Mar 2012\",\"didNotBat\":false,\"dismissalBowlerHand\":\"right\",\"dismissalType\":\"caught\",\"dismissedAgainst\":\"pace\",\"firstBat\":false,\"fours\":22,\"ground\":\"Dhaka\",\"match\":85,\"matchID\":3263,\"minutes\":\"211\",\"notOut\":false,\"opposition\":\"Pakistan\",\"runs\":183,\"sixes\":1,\"strikeRate\":123,\"won\":true},{\"balls\":113,\"batPosition\":\"3\",\"captained\":false,\"date\":\"21 Jul 2012\",\"didNotBat\":false,\"dismissalBowlerHand\":\"right\",\"dismissalType\":\"caught\",\"dismissedAgainst\":\"pace\",\"firstBat\":true,\"fours\":9,\"ground\":\"Hambantota\",\"match\":86,\"matchID\":3291,\"minutes\":\"158\",\"notOut\":false,\"opposition\":\"Sri Lanka\",\"runs\":106,\"sixes\":0,\"strikeRate\":93,\"won\":true},{\"balls\":5,\"batPosition\":\"3\",\"captained\":false,\"date\":\"24 Jul 2012\",\"didNotBat\":false,\"dismissalBowlerHand\":\"right\",\"dismissalType\":\"caught\",\"dismissedAgainst\":\"pace\",\"firstBat\":true,\"fours\":0,\"ground\":\"Hambantota\",\"match\":87,\"matchID\":3292,\"minutes\":\"6\",\"notOut\":false,\"opposition\":\"Sri Lanka\",\"runs\":1,\"sixes\":0,\"strikeRate\":20,\"won\":true},{\"balls\":65,\"batPosition\":\"3\",\"captained\":false,\"date\":\"28 Jul 2012\",\"didNotBat\":false,\"dismissalBowlerHand\":\"left\",\"dismissalType\":\"caught\",\"dismissedAgainst\":\"spin\",\"firstBat\":false,\"fours\":2,\"ground\":\"Colombo (RPS)\",\"match\":88,\"matchID\":3293,\"minutes\":\"80\",\"notOut\":false,\"opposition\":\"Sri Lanka\",\"runs\":38,\"sixes\":0,\"strikeRate\":58,\"won\":true},{\"balls\":119,\"batPosition\":\"3\",\"captained\":false,\"date\":\"31 Jul 2012\",\"didNotBat\":false,\"dismissalBowlerHand\":null,\"dismissalType\":\"not out\",\"dismissedAgainst\":null,\"firstBat\":false,\"fours\":12,\"ground\":\"Colombo (RPS)\",\"match\":89,\"matchID\":3294,\"minutes\":\"187\",\"notOut\":true,\"opposition\":\"Sri Lanka\",\"runs\":128,\"sixes\":1,\"strikeRate\":107,\"won\":true},{\"balls\":35,\"batPosition\":\"3\",\"captained\":false,\"date\":\"4 Aug 2012\",\"didNotBat\":false,\"dismissalBowlerHand\":\"right\",\"dismissalType\":\"lbw\",\"dismissedAgainst\":\"pace\",\"firstBat\":true,\"fours\":2,\"ground\":\"Pallekele\",\"match\":90,\"matchID\":3295,\"minutes\":\"42\",\"notOut\":false,\"opposition\":\"Sri Lanka\",\"runs\":23,\"sixes\":0,\"strikeRate\":65,\"won\":true},{\"balls\":5,\"batPosition\":\"3\",\"captained\":false,\"date\":\"30 Dec 2012\",\"didNotBat\":false,\"dismissalBowlerHand\":\"left\",\"dismissalType\":\"bowled\",\"dismissedAgainst\":\"pace\",\"firstBat\":true,\"fours\":0,\"ground\":\"Chennai\",\"match\":91,\"matchID\":3314,\"minutes\":\"9\",\"notOut\":false,\"opposition\":\"Pakistan\",\"runs\":0,\"sixes\":0,\"strikeRate\":0,\"won\":true},{\"balls\":9,\"batPosition\":\"3\",\"captained\":false,\"date\":\"3 Jan 2013\",\"didNotBat\":false,\"dismissalBowlerHand\":\"left\",\"dismissalType\":\"caught\",\"dismissedAgainst\":\"pace\",\"firstBat\":false,\"fours\":1,\"ground\":\"Kolkata\",\"match\":92,\"matchID\":3315,\"minutes\":\"12\",\"notOut\":false,\"opposition\":\"Pakistan\",\"runs\":6,\"sixes\":0,\"strikeRate\":66,\"won\":true},{\"balls\":17,\"batPosition\":\"3\",\"captained\":false,\"date\":\"6 Jan 2013\",\"didNotBat\":false,\"dismissalBowlerHand\":\"left\",\"dismissalType\":\"caught\",\"dismissedAgainst\":\"pace\",\"firstBat\":true,\"fours\":1,\"ground\":\"Delhi\",\"match\":93,\"matchID\":3316,\"minutes\":\"25\",\"notOut\":false,\"opposition\":\"Pakistan\",\"runs\":7,\"sixes\":0,\"strikeRate\":41,\"won\":true},{\"balls\":22,\"batPosition\":\"3\",\"captained\":false,\"date\":\"11 Jan 2013\",\"didNotBat\":false,\"dismissalBowlerHand\":\"right\",\"dismissalType\":\"caught\",\"dismissedAgainst\":\"pace\",\"firstBat\":false,\"fours\":1,\"ground\":\"Rajkot\",\"match\":94,\"matchID\":3318,\"minutes\":\"45\",\"notOut\":false,\"opposition\":\"England\",\"runs\":15,\"sixes\":0,\"strikeRate\":68,\"won\":true},{\"balls\":54,\"batPosition\":\"3\",\"captained\":false,\"date\":\"15 Jan 2013\",\"didNotBat\":false,\"dismissalBowlerHand\":\"right\",\"dismissalType\":\"caught\",\"dismissedAgainst\":\"pace\",\"firstBat\":true,\"fours\":1,\"ground\":\"Kochi\",\"match\":95,\"matchID\":3320,\"minutes\":\"86\",\"notOut\":false,\"opposition\":\"England\",\"runs\":37,\"sixes\":1,\"strikeRate\":68,\"won\":true},{\"balls\":79,\"batPosition\":\"3\",\"captained\":false,\"date\":\"19 Jan 2013\",\"didNotBat\":false,\"dismissalBowlerHand\":null,\"dismissalType\":\"not out\",\"dismissedAgainst\":null,\"firstBat\":false,\"fours\":9,\"ground\":\"Ranchi\",\"match\":96,\"matchID\":3322,\"minutes\":\"110\",\"notOut\":true,\"opposition\":\"England\",\"runs\":77,\"sixes\":2,\"strikeRate\":97,\"won\":true},{\"balls\":33,\"batPosition\":\"3\",\"captained\":false,\"date\":\"23 Jan 2013\",\"didNotBat\":false,\"dismissalBowlerHand\":\"right\",\"dismissalType\":\"caught\",\"dismissedAgainst\":\"spin\",\"firstBat\":false,\"fours\":3,\"ground\":\"Mohali\",\"match\":97,\"matchID\":3327,\"minutes\":\"44\",\"notOut\":false,\"opposition\":\"England\",\"runs\":26,\"sixes\":0,\"strikeRate\":78,\"won\":true},{\"balls\":1,\"batPosition\":\"3\",\"captained\":false,\"date\":\"27 Jan 2013\",\"didNotBat\":false,\"dismissalBowlerHand\":\"right\",\"dismissalType\":\"caught\",\"dismissedAgainst\":\"pace\",\"firstBat\":true,\"fours\":0,\"ground\":\"Dharamsala\",\"match\":98,\"matchID\":3329,\"minutes\":\"1\",\"notOut\":false,\"opposition\":\"England\",\"runs\":0,\"sixes\":0,\"strikeRate\":0,\"won\":true},{\"balls\":41,\"batPosition\":\"3\",\"captained\":false,\"date\":\"6 Jun 2013\",\"didNotBat\":false,\"dismissalBowlerHand\":\"left\",\"dismissalType\":\"caught\",\"dismissedAgainst\":\"pace\",\"firstBat\":true,\"fours\":2,\"ground\":\"Cardiff\",\"match\":99,\"matchID\":3363,\"minutes\":\"46\",\"notOut\":false,\"opposition\":\"South Africa\",\"runs\":31,\"sixes\":0,\"strikeRate\":75,\"won\":true},{\"balls\":18,\"batPosition\":\"3\",\"captained\":false,\"date\":\"11 Jun 2013\",\"didNotBat\":false,\"dismissalBowlerHand\":\"right\",\"dismissalType\":\"bowled\",\"dismissedAgainst\":\"spin\",\"firstBat\":false,\"fours\":4,\"ground\":\"The Oval\",\"match\":100,\"matchID\":3368,\"minutes\":\"18\",\"notOut\":false,\"opposition\":\"West Indies\",\"runs\":22,\"sixes\":0,\"strikeRate\":122,\"won\":true},{\"balls\":27,\"batPosition\":\"3\",\"captained\":false,\"date\":\"15 Jun 2013\",\"didNotBat\":false,\"dismissalBowlerHand\":null,\"dismissalType\":\"not out\",\"dismissedAgainst\":null,\"firstBat\":false,\"fours\":3,\"ground\":\"Birmingham\",\"match\":101,\"matchID\":3372,\"minutes\":\"36\",\"notOut\":true,\"opposition\":\"Pakistan\",\"runs\":22,\"sixes\":0,\"strikeRate\":81,\"won\":true},{\"balls\":64,\"batPosition\":\"3\",\"captained\":false,\"date\":\"20 Jun 2013\",\"didNotBat\":false,\"dismissalBowlerHand\":null,\"dismissalType\":\"not out\",\"dismissedAgainst\":null,\"firstBat\":false,\"fours\":4,\"ground\":\"Cardiff\",\"match\":102,\"matchID\":3376,\"minutes\":\"80\",\"notOut\":true,\"opposition\":\"Sri Lanka\",\"runs\":58,\"sixes\":1,\"strikeRate\":90,\"won\":true},{\"balls\":34,\"batPosition\":\"3\",\"captained\":false,\"date\":\"23 Jun 2013\",\"didNotBat\":false,\"dismissalBowlerHand\":\"right\",\"dismissalType\":\"caught\",\"dismissedAgainst\":\"pace\",\"firstBat\":true,\"fours\":4,\"ground\":\"Birmingham\",\"match\":103,\"matchID\":3377,\"minutes\":\"66\",\"notOut\":false,\"opposition\":\"England\",\"runs\":43,\"sixes\":1,\"strikeRate\":126,\"won\":true},{\"balls\":21,\"batPosition\":\"3\",\"captained\":false,\"date\":\"30 Jun 2013\",\"didNotBat\":false,\"dismissalBowlerHand\":\"right\",\"dismissalType\":\"caught\",\"dismissedAgainst\":\"pace\",\"firstBat\":true,\"fours\":0,\"ground\":\"Kingston\",\"match\":104,\"matchID\":3380,\"minutes\":\"19\",\"notOut\":false,\"opposition\":\"West Indies\",\"runs\":11,\"sixes\":1,\"strikeRate\":52,\"won\":true},{\"balls\":5,\"batPosition\":\"4\",\"captained\":true,\"date\":\"2 Jul 2013\",\"didNotBat\":false,\"dismissalBowlerHand\":\"right\",\"dismissalType\":\"caught\",\"dismissedAgainst\":\"pace\",\"firstBat\":false,\"fours\":0,\"ground\":\"Kingston\",\"match\":105,\"matchID\":3382,\"minutes\":\"6\",\"notOut\":false,\"opposition\":\"Sri Lanka\",\"runs\":2,\"sixes\":0,\"strikeRate\":40,\"won\":true},{\"balls\":83,\"batPosition\":\"3\",\"captained\":true,\"date\":\"5 Jul 2013\",\"didNotBat\":false,\"dismissalBowlerHand\":\"right\",\"dismissalType\":\"caught\",\"dismissedAgainst\":\"pace\",\"firstBat\":true,\"fours\":13,\"ground\":\"Port of Spain\",\"match\":106,\"matchID\":3383,\"minutes\":\"120\",\"notOut\":false,\"opposition\":\"West Indies\",\"runs\":102,\"sixes\":2,\"strikeRate\":122,\"won\":true},{\"balls\":52,\"batPosition\":\"3\",\"captained\":true,\"date\":\"9 Jul 2013\",\"didNotBat\":false,\"dismissalBowlerHand\":\"left\",\"dismissalType\":\"lbw\",\"dismissedAgainst\":\"spin\",\"firstBat\":true,\"fours\":4,\"ground\":\"Port of Spain\",\"match\":107,\"matchID\":3387,\"minutes\":\"62\",\"notOut\":false,\"opposition\":\"Sri Lanka\",\"runs\":31,\"sixes\":0,\"strikeRate\":59,\"won\":true},{\"balls\":5,\"batPosition\":\"3\",\"captained\":false,\"date\":\"11 Jul 2013\",\"didNotBat\":false,\"dismissalBowlerHand\":\"right\",\"dismissalType\":\"caught\",\"dismissedAgainst\":\"pace\",\"firstBat\":false,\"fours\":0,\"ground\":\"Port of Spain\",\"match\":108,\"matchID\":3388,\"minutes\":\"8\",\"notOut\":false,\"opposition\":\"Sri Lanka\",\"runs\":2,\"sixes\":0,\"strikeRate\":40,\"won\":true},{\"balls\":108,\"batPosition\":\"3\",\"captained\":true,\"date\":\"24 Jul 2013\",\"didNotBat\":false,\"dismissalBowlerHand\":\"right\",\"dismissalType\":\"caught\",\"dismissedAgainst\":\"spin\",\"firstBat\":false,\"fours\":13,\"ground\":\"Harare\",\"match\":109,\"matchID\":3395,\"minutes\":\"133\",\"notOut\":false,\"opposition\":\"Zimbabwe\",\"runs\":115,\"sixes\":1,\"strikeRate\":106,\"won\":true},{\"balls\":18,\"batPosition\":\"3\",\"captained\":true,\"date\":\"26 Jul 2013\",\"didNotBat\":false,\"dismissalBowlerHand\":\"right\",\"dismissalType\":\"caught\",\"dismissedAgainst\":\"pace\",\"firstBat\":true,\"fours\":2,\"ground\":\"Harare\",\"match\":110,\"matchID\":3397,\"minutes\":\"35\",\"notOut\":false,\"opposition\":\"Zimbabwe\",\"runs\":14,\"sixes\":0,\"strikeRate\":77,\"won\":true},{\"balls\":88,\"batPosition\":\"3\",\"captained\":true,\"date\":\"28 Jul 2013\",\"didNotBat\":false,\"dismissalBowlerHand\":null,\"dismissalType\":\"not out\",\"dismissedAgainst\":null,\"firstBat\":false,\"fours\":5,\"ground\":\"Harare\",\"match\":111,\"matchID\":3399,\"minutes\":\"128\",\"notOut\":true,\"opposition\":\"Zimbabwe\",\"runs\":68,\"sixes\":1,\"strikeRate\":77,\"won\":true},{\"balls\":0,\"batPosition\":\"-\",\"captained\":true,\"date\":\"1 Aug 2013\",\"didNotBat\":true,\"dismissalBowlerHand\":null,\"dismissalType\":\"-\",\"dismissedAgainst\":null,\"firstBat\":false,\"fours\":0,\"ground\":\"Bulawayo\",\"match\":112,\"matchID\":3402,\"minutes\":0,\"notOut\":true,\"opposition\":\"Zimbabwe\",\"runs\":0,\"sixes\":0,\"strikeRate\":0,\"won\":true},{\"balls\":0,\"batPosition\":\"-\",\"captained\":true,\"date\":\"3 Aug 2013\",\"didNotBat\":true,\"dismissalBowlerHand\":null,\"dismissalType\":\"-\",\"dismissedAgainst\":null,\"firstBat\":false,\"fours\":0,\"ground\":\"Bulawayo\",\"match\":113,\"matchID\":3403,\"minutes\":0,\"notOut\":true,\"opposition\":\"Zimbabwe\",\"runs\":0,\"sixes\":0,\"strikeRate\":0,\"won\":true},{\"balls\":85,\"batPosition\":\"3\",\"captained\":false,\"date\":\"13 Oct 2013\",\"didNotBat\":false,\"dismissalBowlerHand\":\"right\",\"dismissalType\":\"lbw\",\"dismissedAgainst\":\"pace\",\"firstBat\":false,\"fours\":6,\"ground\":\"Pune\",\"match\":114,\"matchID\":3419,\"minutes\":\"121\",\"notOut\":false,\"opposition\":\"Australia\",\"runs\":61,\"sixes\":0,\"strikeRate\":71,\"won\":true},{\"balls\":52,\"batPosition\":\"3\",\"captained\":false,\"date\":\"16 Oct 2013\",\"didNotBat\":false,\"dismissalBowlerHand\":null,\"dismissalType\":\"not out\",\"dismissedAgainst\":null,\"firstBat\":false,\"fours\":8,\"ground\":\"Jaipur\",\"match\":115,\"matchID\":3420,\"minutes\":\"82\",\"notOut\":true,\"opposition\":\"Australia\",\"runs\":100,\"sixes\":7,\"strikeRate\":192,\"won\":true},{\"balls\":73,\"batPosition\":\"3\",\"captained\":false,\"date\":\"19 Oct 2013\",\"didNotBat\":false,\"dismissalBowlerHand\":\"right\",\"dismissalType\":\"caught\",\"dismissedAgainst\":\"spin\",\"firstBat\":true,\"fours\":9,\"ground\":\"Mohali\",\"match\":116,\"matchID\":3421,\"minutes\":\"121\",\"notOut\":false,\"opposition\":\"Australia\",\"runs\":68,\"sixes\":0,\"strikeRate\":93,\"won\":true},{\"balls\":0,\"batPosition\":\"-\",\"captained\":false,\"date\":\"23 Oct 2013\",\"didNotBat\":true,\"dismissalBowlerHand\":null,\"dismissalType\":\"-\",\"dismissedAgainst\":null,\"firstBat\":false,\"fours\":0,\"ground\":\"Ranchi\",\"match\":117,\"matchID\":3422,\"minutes\":0,\"notOut\":true,\"opposition\":\"Australia\",\"runs\":0,\"sixes\":0,\"strikeRate\":0,\"won\":true},{\"balls\":66,\"batPosition\":\"3\",\"captained\":false,\"date\":\"30 Oct 2013\",\"didNotBat\":false,\"dismissalBowlerHand\":null,\"dismissalType\":\"not out\",\"dismissedAgainst\":null,\"firstBat\":false,\"fours\":18,\"ground\":\"Nagpur\",\"match\":118,\"matchID\":3424,\"minutes\":\"104\",\"notOut\":true,\"opposition\":\"Australia\",\"runs\":115,\"sixes\":1,\"strikeRate\":174,\"won\":true},{\"balls\":3,\"batPosition\":\"3\",\"captained\":false,\"date\":\"2 Nov 2013\",\"didNotBat\":false,\"dismissalBowlerHand\":null,\"dismissalType\":\"run out\",\"dismissedAgainst\":null,\"firstBat\":true,\"fours\":0,\"ground\":\"Bengaluru\",\"match\":119,\"matchID\":3428,\"minutes\":\"4\",\"notOut\":false,\"opposition\":\"Australia\",\"runs\":0,\"sixes\":0,\"strikeRate\":0,\"won\":true},{\"balls\":84,\"batPosition\":\"3\",\"captained\":false,\"date\":\"21 Nov 2013\",\"didNotBat\":false,\"dismissalBowlerHand\":\"right\",\"dismissalType\":\"caught\",\"dismissedAgainst\":\"pace\",\"firstBat\":false,\"fours\":9,\"ground\":\"Kochi\",\"match\":120,\"matchID\":3436,\"minutes\":\"120\",\"notOut\":false,\"opposition\":\"West Indies\",\"runs\":86,\"sixes\":2,\"strikeRate\":102,\"won\":true},{\"balls\":100,\"batPosition\":\"3\",\"captained\":false,\"date\":\"24 Nov 2013\",\"didNotBat\":false,\"dismissalBowlerHand\":\"right\",\"dismissalType\":\"caught\",\"dismissedAgainst\":\"pace\",\"firstBat\":true,\"fours\":9,\"ground\":\"Visakhapatnam\",\"match\":121,\"matchID\":3437,\"minutes\":\"159\",\"notOut\":false,\"opposition\":\"West Indies\",\"runs\":99,\"sixes\":0,\"strikeRate\":99,\"won\":true},{\"balls\":18,\"batPosition\":\"3\",\"captained\":false,\"date\":\"27 Nov 2013\",\"didNotBat\":false,\"dismissalBowlerHand\":\"right\",\"dismissalType\":\"caught\",\"dismissedAgainst\":\"pace\",\"firstBat\":false,\"fours\":3,\"ground\":\"Kanpur\",\"match\":122,\"matchID\":3439,\"minutes\":\"19\",\"notOut\":false,\"opposition\":\"West Indies\",\"runs\":19,\"sixes\":0,\"strikeRate\":105,\"won\":true},{\"balls\":35,\"batPosition\":\"3\",\"captained\":false,\"date\":\"5 Dec 2013\",\"didNotBat\":false,\"dismissalBowlerHand\":\"right\",\"dismissalType\":\"caught\",\"dismissedAgainst\":\"pace\",\"firstBat\":false,\"fours\":5,\"ground\":\"Johannesburg\",\"match\":123,\"matchID\":3442,\"minutes\":\"41\",\"notOut\":false,\"opposition\":\"South Africa\",\"runs\":31,\"sixes\":0,\"strikeRate\":88,\"won\":true},{\"balls\":5,\"batPosition\":\"3\",\"captained\":false,\"date\":\"8 Dec 2013\",\"didNotBat\":false,\"dismissalBowlerHand\":\"left\",\"dismissalType\":\"caught\",\"dismissedAgainst\":\"pace\",\"firstBat\":false,\"fours\":0,\"ground\":\"Durban\",\"match\":124,\"matchID\":3443,\"minutes\":\"7\",\"notOut\":false,\"opposition\":\"South Africa\",\"runs\":0,\"sixes\":0,\"strikeRate\":0,\"won\":true},{\"balls\":0,\"batPosition\":\"-\",\"captained\":false,\"date\":\"11 Dec 2013\",\"didNotBat\":true,\"dismissalBowlerHand\":null,\"dismissalType\":\"-\",\"dismissedAgainst\":null,\"firstBat\":false,\"fours\":0,\"ground\":\"Centurion\",\"match\":125,\"matchID\":3444,\"minutes\":0,\"notOut\":true,\"opposition\":\"South Africa\",\"runs\":0,\"sixes\":0,\"strikeRate\":0,\"won\":true},{\"balls\":111,\"batPosition\":\"3\",\"captained\":false,\"date\":\"19 Jan 2014\",\"didNotBat\":false,\"dismissalBowlerHand\":\"left\",\"dismissalType\":\"caught\",\"dismissedAgainst\":\"pace\",\"firstBat\":false,\"fours\":11,\"ground\":\"Napier\",\"match\":126,\"matchID\":3456,\"minutes\":\"179\",\"notOut\":false,\"opposition\":\"New Zealand\",\"runs\":123,\"sixes\":2,\"strikeRate\":110,\"won\":true},{\"balls\":65,\"batPosition\":\"3\",\"captained\":false,\"date\":\"22 Jan 2014\",\"didNotBat\":false,\"dismissalBowlerHand\":\"right\",\"dismissalType\":\"caught\",\"dismissedAgainst\":\"pace\",\"firstBat\":false,\"fours\":7,\"ground\":\"Hamilton\",\"match\":127,\"matchID\":3458,\"minutes\":\"88\",\"notOut\":false,\"opposition\":\"New Zealand\",\"runs\":78,\"sixes\":2,\"strikeRate\":120,\"won\":true},{\"balls\":20,\"batPosition\":\"3\",\"captained\":false,\"date\":\"25 Jan 2014\",\"didNotBat\":false,\"dismissalBowlerHand\":\"right\",\"dismissalType\":\"caught\",\"dismissedAgainst\":\"pace\",\"firstBat\":false,\"fours\":1,\"ground\":\"Auckland\",\"match\":128,\"matchID\":3462,\"minutes\":\"27\",\"notOut\":false,\"opposition\":\"New Zealand\",\"runs\":6,\"sixes\":0,\"strikeRate\":30,\"won\":true},{\"balls\":10,\"batPosition\":\"2\",\"captained\":false,\"date\":\"28 Jan 2014\",\"didNotBat\":false,\"dismissalBowlerHand\":\"right\",\"dismissalType\":\"caught\",\"dismissedAgainst\":\"pace\",\"firstBat\":true,\"fours\":0,\"ground\":\"Hamilton\",\"match\":129,\"matchID\":3465,\"minutes\":\"14\",\"notOut\":false,\"opposition\":\"New Zealand\",\"runs\":2,\"sixes\":0,\"strikeRate\":20,\"won\":true},{\"balls\":78,\"batPosition\":\"3\",\"captained\":false,\"date\":\"31 Jan 2014\",\"didNotBat\":false,\"dismissalBowlerHand\":\"right\",\"dismissalType\":\"caught\",\"dismissedAgainst\":\"spin\",\"firstBat\":false,\"fours\":7,\"ground\":\"Wellington\",\"match\":130,\"matchID\":3467,\"minutes\":\"129\",\"notOut\":false,\"opposition\":\"New Zealand\",\"runs\":82,\"sixes\":3,\"strikeRate\":105,\"won\":true},{\"balls\":122,\"batPosition\":\"3\",\"captained\":true,\"date\":\"26 Feb 2014\",\"didNotBat\":false,\"dismissalBowlerHand\":\"right\",\"dismissalType\":\"bowled\",\"dismissedAgainst\":\"pace\",\"firstBat\":false,\"fours\":16,\"ground\":\"Fatullah\",\"match\":131,\"matchID\":3474,\"minutes\":\"157\",\"notOut\":false,\"opposition\":\"Bangladesh\",\"runs\":136,\"sixes\":2,\"strikeRate\":111,\"won\":true},{\"balls\":51,\"batPosition\":\"3\",\"captained\":true,\"date\":\"28 Feb 2014\",\"didNotBat\":false,\"dismissalBowlerHand\":\"right\",\"dismissalType\":\"bowled\",\"dismissedAgainst\":\"spin\",\"firstBat\":true,\"fours\":4,\"ground\":\"Fatullah\",\"match\":132,\"matchID\":3476,\"minutes\":\"66\",\"notOut\":false,\"opposition\":\"Sri Lanka\",\"runs\":48,\"sixes\":1,\"strikeRate\":94,\"won\":true},{\"balls\":11,\"batPosition\":\"3\",\"captained\":true,\"date\":\"2 Mar 2014\",\"didNotBat\":false,\"dismissalBowlerHand\":\"right\",\"dismissalType\":\"caught\",\"dismissedAgainst\":\"pace\",\"firstBat\":true,\"fours\":0,\"ground\":\"Dhaka\",\"match\":133,\"matchID\":3479,\"minutes\":\"29\",\"notOut\":false,\"opposition\":\"Pakistan\",\"runs\":5,\"sixes\":0,\"strikeRate\":45,\"won\":true},{\"balls\":0,\"batPosition\":\"-\",\"captained\":true,\"date\":\"5 Mar 2014\",\"didNotBat\":true,\"dismissalBowlerHand\":null,\"dismissalType\":\"-\",\"dismissedAgainst\":null,\"firstBat\":false,\"fours\":0,\"ground\":\"Dhaka\",\"match\":134,\"matchID\":3483,\"minutes\":0,\"notOut\":true,\"opposition\":\"Afghanistan\",\"runs\":0,\"sixes\":0,\"strikeRate\":0,\"won\":true},{\"balls\":3,\"batPosition\":\"3\",\"captained\":false,\"date\":\"27 Aug 2014\",\"didNotBat\":false,\"dismissalBowlerHand\":\"right\",\"dismissalType\":\"caught\",\"dismissedAgainst\":\"pace\",\"firstBat\":true,\"fours\":0,\"ground\":\"Cardiff\",\"match\":135,\"matchID\":3517,\"minutes\":\"1\",\"notOut\":false,\"opposition\":\"England\",\"runs\":0,\"sixes\":0,\"strikeRate\":0,\"won\":true},{\"balls\":50,\"batPosition\":\"3\",\"captained\":false,\"date\":\"30 Aug 2014\",\"didNotBat\":false,\"dismissalBowlerHand\":\"right\",\"dismissalType\":\"caught\",\"dismissedAgainst\":\"pace\",\"firstBat\":false,\"fours\":2,\"ground\":\"Nottingham\",\"match\":136,\"matchID\":3520,\"minutes\":\"67\",\"notOut\":false,\"opposition\":\"England\",\"runs\":40,\"sixes\":1,\"strikeRate\":80,\"won\":true},{\"balls\":3,\"batPosition\":\"3\",\"captained\":false,\"date\":\"2 Sep 2014\",\"didNotBat\":false,\"dismissalBowlerHand\":null,\"dismissalType\":\"not out\",\"dismissedAgainst\":null,\"firstBat\":false,\"fours\":0,\"ground\":\"Birmingham\",\"match\":137,\"matchID\":3523,\"minutes\":\"9\",\"notOut\":true,\"opposition\":\"England\",\"runs\":1,\"sixes\":0,\"strikeRate\":33,\"won\":true},{\"balls\":21,\"batPosition\":\"3\",\"captained\":false,\"date\":\"5 Sep 2014\",\"didNotBat\":false,\"dismissalBowlerHand\":\"right\",\"dismissalType\":\"caught\",\"dismissedAgainst\":\"pace\",\"firstBat\":false,\"fours\":2,\"ground\":\"Leeds\",\"match\":138,\"matchID\":3525,\"minutes\":\"25\",\"notOut\":false,\"opposition\":\"England\",\"runs\":13,\"sixes\":0,\"strikeRate\":61,\"won\":true},{\"balls\":5,\"batPosition\":\"3\",\"captained\":false,\"date\":\"8 Oct 2014\",\"didNotBat\":false,\"dismissalBowlerHand\":\"right\",\"dismissalType\":\"caught\",\"dismissedAgainst\":\"pace\",\"firstBat\":false,\"fours\":0,\"ground\":\"Kochi\",\"match\":139,\"matchID\":3531,\"minutes\":\"7\",\"notOut\":false,\"opposition\":\"West Indies\",\"runs\":2,\"sixes\":0,\"strikeRate\":40,\"won\":true},{\"balls\":78,\"batPosition\":\"4\",\"captained\":false,\"date\":\"11 Oct 2014\",\"didNotBat\":false,\"dismissalBowlerHand\":\"right\",\"dismissalType\":\"caught\",\"dismissedAgainst\":\"pace\",\"firstBat\":true,\"fours\":5,\"ground\":\"Delhi\",\"match\":140,\"matchID\":3533,\"minutes\":\"124\",\"notOut\":false,\"opposition\":\"West Indies\",\"runs\":62,\"sixes\":0,\"strikeRate\":79,\"won\":true},{\"balls\":114,\"batPosition\":\"3\",\"captained\":false,\"date\":\"17 Oct 2014\",\"didNotBat\":false,\"dismissalBowlerHand\":null,\"dismissalType\":\"run out\",\"dismissedAgainst\":null,\"firstBat\":true,\"fours\":13,\"ground\":\"Dharamsala\",\"match\":141,\"matchID\":3535,\"minutes\":\"164\",\"notOut\":false,\"opposition\":\"West Indies\",\"runs\":127,\"sixes\":3,\"strikeRate\":111,\"won\":true},{\"balls\":21,\"batPosition\":\"4\",\"captained\":true,\"date\":\"2 Nov 2014\",\"didNotBat\":false,\"dismissalBowlerHand\":\"right\",\"dismissalType\":\"caught\",\"dismissedAgainst\":\"spin\",\"firstBat\":true,\"fours\":2,\"ground\":\"Cuttack\",\"match\":142,\"matchID\":3539,\"minutes\":\"34\",\"notOut\":false,\"opposition\":\"Sri Lanka\",\"runs\":22,\"sixes\":0,\"strikeRate\":104,\"won\":true},{\"balls\":44,\"batPosition\":\"4\",\"captained\":true,\"date\":\"6 Nov 2014\",\"didNotBat\":false,\"dismissalBowlerHand\":\"right\",\"dismissalType\":\"caught\",\"dismissedAgainst\":\"spin\",\"firstBat\":false,\"fours\":2,\"ground\":\"Ahmedabad\",\"match\":143,\"matchID\":3540,\"minutes\":0,\"notOut\":false,\"opposition\":\"Sri Lanka\",\"runs\":49,\"sixes\":2,\"strikeRate\":111,\"won\":true},{\"balls\":61,\"batPosition\":\"4\",\"captained\":true,\"date\":\"9 Nov 2014\",\"didNotBat\":false,\"dismissalBowlerHand\":\"right\",\"dismissalType\":\"caught\",\"dismissedAgainst\":\"spin\",\"firstBat\":false,\"fours\":4,\"ground\":\"Hyderabad (Deccan)\",\"match\":144,\"matchID\":3543,\"minutes\":0,\"notOut\":false,\"opposition\":\"Sri Lanka\",\"runs\":53,\"sixes\":1,\"strikeRate\":86,\"won\":true},{\"balls\":64,\"batPosition\":\"4\",\"captained\":true,\"date\":\"13 Nov 2014\",\"didNotBat\":false,\"dismissalBowlerHand\":null,\"dismissalType\":\"run out\",\"dismissedAgainst\":null,\"firstBat\":true,\"fours\":6,\"ground\":\"Kolkata\",\"match\":145,\"matchID\":3544,\"minutes\":\"109\",\"notOut\":false,\"opposition\":\"Sri Lanka\",\"runs\":66,\"sixes\":0,\"strikeRate\":103,\"won\":true},{\"balls\":126,\"batPosition\":\"4\",\"captained\":true,\"date\":\"16 Nov 2014\",\"didNotBat\":false,\"dismissalBowlerHand\":null,\"dismissalType\":\"not out\",\"dismissedAgainst\":null,\"firstBat\":false,\"fours\":12,\"ground\":\"Ranchi\",\"match\":146,\"matchID\":3547,\"minutes\":\"192\",\"notOut\":true,\"opposition\":\"Sri Lanka\",\"runs\":139,\"sixes\":3,\"strikeRate\":110,\"won\":true},{\"balls\":16,\"batPosition\":\"4\",\"captained\":false,\"date\":\"18 Jan 2015\",\"didNotBat\":false,\"dismissalBowlerHand\":\"left\",\"dismissalType\":\"caught\",\"dismissedAgainst\":\"pace\",\"firstBat\":true,\"fours\":0,\"ground\":\"Melbourne\",\"match\":147,\"matchID\":3582,\"minutes\":\"24\",\"notOut\":false,\"opposition\":\"Australia\",\"runs\":9,\"sixes\":0,\"strikeRate\":56,\"won\":true},{\"balls\":8,\"batPosition\":\"4\",\"captained\":false,\"date\":\"20 Jan 2015\",\"didNotBat\":false,\"dismissalBowlerHand\":\"right\",\"dismissalType\":\"caught\",\"dismissedAgainst\":\"pace\",\"firstBat\":true,\"fours\":0,\"ground\":\"Brisbane\",\"match\":148,\"matchID\":3586,\"minutes\":\"13\",\"notOut\":false,\"opposition\":\"England\",\"runs\":4,\"sixes\":0,\"strikeRate\":50,\"won\":true},{\"balls\":9,\"batPosition\":\"4\",\"captained\":false,\"date\":\"26 Jan 2015\",\"didNotBat\":false,\"dismissalBowlerHand\":null,\"dismissalType\":\"not out\",\"dismissedAgainst\":null,\"firstBat\":true,\"fours\":0,\"ground\":\"Sydney\",\"match\":149,\"matchID\":3592,\"minutes\":\"8\",\"notOut\":true,\"opposition\":\"Australia\",\"runs\":3,\"sixes\":0,\"strikeRate\":33,\"won\":true},{\"balls\":19,\"batPosition\":\"3\",\"captained\":false,\"date\":\"30 Jan 2015\",\"didNotBat\":false,\"dismissalBowlerHand\":\"right\",\"dismissalType\":\"caught\",\"dismissedAgainst\":\"spin\",\"firstBat\":true,\"fours\":0,\"ground\":\"Perth\",\"match\":150,\"matchID\":3595,\"minutes\":\"26\",\"notOut\":false,\"opposition\":\"England\",\"runs\":8,\"sixes\":0,\"strikeRate\":42,\"won\":true},{\"balls\":126,\"batPosition\":\"3\",\"captained\":false,\"date\":\"15 Feb 2015\",\"didNotBat\":false,\"dismissalBowlerHand\":\"right\",\"dismissalType\":\"caught\",\"dismissedAgainst\":\"pace\",\"firstBat\":true,\"fours\":8,\"ground\":\"Adelaide\",\"match\":151,\"matchID\":3602,\"minutes\":\"168\",\"notOut\":false,\"opposition\":\"Pakistan\",\"runs\":107,\"sixes\":0,\"strikeRate\":84,\"won\":true},{\"balls\":60,\"batPosition\":\"3\",\"captained\":false,\"date\":\"22 Feb 2015\",\"didNotBat\":false,\"dismissalBowlerHand\":\"right\",\"dismissalType\":\"caught\",\"dismissedAgainst\":\"spin\",\"firstBat\":true,\"fours\":3,\"ground\":\"Melbourne\",\"match\":152,\"matchID\":3610,\"minutes\":\"106\",\"notOut\":false,\"opposition\":\"South Africa\",\"runs\":46,\"sixes\":0,\"strikeRate\":76,\"won\":true},{\"balls\":41,\"batPosition\":\"3\",\"captained\":false,\"date\":\"28 Feb 2015\",\"didNotBat\":false,\"dismissalBowlerHand\":null,\"dismissalType\":\"not out\",\"dismissedAgainst\":null,\"firstBat\":false,\"fours\":5,\"ground\":\"Perth\",\"match\":153,\"matchID\":3618,\"minutes\":\"49\",\"notOut\":true,\"opposition\":\"U.A.E.\",\"runs\":33,\"sixes\":0,\"strikeRate\":80,\"won\":true},{\"balls\":36,\"batPosition\":\"3\",\"captained\":false,\"date\":\"6 Mar 2015\",\"didNotBat\":false,\"dismissalBowlerHand\":\"right\",\"dismissalType\":\"caught\",\"dismissedAgainst\":\"pace\",\"firstBat\":false,\"fours\":5,\"ground\":\"Perth\",\"match\":154,\"matchID\":3625,\"minutes\":\"51\",\"notOut\":false,\"opposition\":\"West Indies\",\"runs\":33,\"sixes\":0,\"strikeRate\":91,\"won\":true},{\"balls\":42,\"batPosition\":\"3\",\"captained\":false,\"date\":\"10 Mar 2015\",\"didNotBat\":false,\"dismissalBowlerHand\":null,\"dismissalType\":\"not out\",\"dismissedAgainst\":null,\"firstBat\":false,\"fours\":4,\"ground\":\"Hamilton\",\"match\":155,\"matchID\":3631,\"minutes\":\"64\",\"notOut\":true,\"opposition\":\"Ireland\",\"runs\":44,\"sixes\":1,\"strikeRate\":104,\"won\":true},{\"balls\":48,\"batPosition\":\"3\",\"captained\":false,\"date\":\"14 Mar 2015\",\"didNotBat\":false,\"dismissalBowlerHand\":\"right\",\"dismissalType\":\"bowled\",\"dismissedAgainst\":\"spin\",\"firstBat\":false,\"fours\":4,\"ground\":\"Auckland\",\"match\":156,\"matchID\":3636,\"minutes\":\"71\",\"notOut\":false,\"opposition\":\"Zimbabwe\",\"runs\":38,\"sixes\":0,\"strikeRate\":79,\"won\":true},{\"balls\":8,\"batPosition\":\"3\",\"captained\":false,\"date\":\"19 Mar 2015\",\"didNotBat\":false,\"dismissalBowlerHand\":\"right\",\"dismissalType\":\"caught\",\"dismissedAgainst\":\"pace\",\"firstBat\":true,\"fours\":0,\"ground\":\"Melbourne\",\"match\":157,\"matchID\":3641,\"minutes\":\"6\",\"notOut\":false,\"opposition\":\"Bangladesh\",\"runs\":3,\"sixes\":0,\"strikeRate\":37,\"won\":true},{\"balls\":13,\"batPosition\":\"3\",\"captained\":false,\"date\":\"26 Mar 2015\",\"didNotBat\":false,\"dismissalBowlerHand\":\"left\",\"dismissalType\":\"caught\",\"dismissedAgainst\":\"pace\",\"firstBat\":false,\"fours\":0,\"ground\":\"Sydney\",\"match\":158,\"matchID\":3645,\"minutes\":\"11\",\"notOut\":false,\"opposition\":\"Australia\",\"runs\":1,\"sixes\":0,\"strikeRate\":7,\"won\":true},{\"balls\":4,\"batPosition\":\"3\",\"captained\":false,\"date\":\"18 Jun 2015\",\"didNotBat\":false,\"dismissalBowlerHand\":\"right\",\"dismissalType\":\"caught\",\"dismissedAgainst\":\"pace\",\"firstBat\":false,\"fours\":0,\"ground\":\"Dhaka\",\"match\":159,\"matchID\":3658,\"minutes\":\"9\",\"notOut\":false,\"opposition\":\"Bangladesh\",\"runs\":1,\"sixes\":0,\"strikeRate\":25,\"won\":true},{\"balls\":27,\"batPosition\":\"3\",\"captained\":false,\"date\":\"21 Jun 2015\",\"didNotBat\":false,\"dismissalBowlerHand\":\"right\",\"dismissalType\":\"lbw\",\"dismissedAgainst\":\"spin\",\"firstBat\":true,\"fours\":3,\"ground\":\"Dhaka\",\"match\":160,\"matchID\":3660,\"minutes\":\"57\",\"notOut\":false,\"opposition\":\"Bangladesh\",\"runs\":23,\"sixes\":1,\"strikeRate\":85,\"won\":true},{\"balls\":35,\"batPosition\":\"3\",\"captained\":false,\"date\":\"24 Jun 2015\",\"didNotBat\":false,\"dismissalBowlerHand\":\"left\",\"dismissalType\":\"bowled\",\"dismissedAgainst\":\"spin\",\"firstBat\":true,\"fours\":1,\"ground\":\"Dhaka\",\"match\":161,\"matchID\":3661,\"minutes\":\"55\",\"notOut\":false,\"opposition\":\"Bangladesh\",\"runs\":25,\"sixes\":0,\"strikeRate\":71,\"won\":true},{\"balls\":18,\"batPosition\":\"4\",\"captained\":false,\"date\":\"11 Oct 2015\",\"didNotBat\":false,\"dismissalBowlerHand\":\"right\",\"dismissalType\":\"caught\",\"dismissedAgainst\":\"pace\",\"firstBat\":false,\"fours\":0,\"ground\":\"Kanpur\",\"match\":162,\"matchID\":3689,\"minutes\":\"29\",\"notOut\":false,\"opposition\":\"South Africa\",\"runs\":11,\"sixes\":0,\"strikeRate\":61,\"won\":true},{\"balls\":18,\"batPosition\":\"4\",\"captained\":false,\"date\":\"14 Oct 2015\",\"didNotBat\":false,\"dismissalBowlerHand\":null,\"dismissalType\":\"run out\",\"dismissedAgainst\":null,\"firstBat\":true,\"fours\":0,\"ground\":\"Indore\",\"match\":163,\"matchID\":3692,\"minutes\":\"24\",\"notOut\":false,\"opposition\":\"South Africa\",\"runs\":12,\"sixes\":0,\"strikeRate\":66,\"won\":true},{\"balls\":99,\"batPosition\":\"3\",\"captained\":false,\"date\":\"18 Oct 2015\",\"didNotBat\":false,\"dismissalBowlerHand\":\"right\",\"dismissalType\":\"caught\",\"dismissedAgainst\":\"pace\",\"firstBat\":false,\"fours\":5,\"ground\":\"Rajkot\",\"match\":164,\"matchID\":3695,\"minutes\":\"155\",\"notOut\":false,\"opposition\":\"South Africa\",\"runs\":77,\"sixes\":0,\"strikeRate\":77,\"won\":true},{\"balls\":140,\"batPosition\":\"3\",\"captained\":false,\"date\":\"22 Oct 2015\",\"didNotBat\":false,\"dismissalBowlerHand\":\"right\",\"dismissalType\":\"caught\",\"dismissedAgainst\":\"pace\",\"firstBat\":true,\"fours\":6,\"ground\":\"Chennai\",\"match\":165,\"matchID\":3698,\"minutes\":\"202\",\"notOut\":false,\"opposition\":\"South Africa\",\"runs\":138,\"sixes\":5,\"strikeRate\":98,\"won\":true},{\"balls\":6,\"batPosition\":\"3\",\"captained\":false,\"date\":\"25 Oct 2015\",\"didNotBat\":false,\"dismissalBowlerHand\":\"right\",\"dismissalType\":\"caught\",\"dismissedAgainst\":\"pace\",\"firstBat\":false,\"fours\":0,\"ground\":\"Mumbai\",\"match\":166,\"matchID\":3700,\"minutes\":\"11\",\"notOut\":false,\"opposition\":\"South Africa\",\"runs\":7,\"sixes\":1,\"strikeRate\":116,\"won\":true},{\"balls\":97,\"batPosition\":\"3\",\"captained\":false,\"date\":\"12 Jan 2016\",\"didNotBat\":false,\"dismissalBowlerHand\":\"left\",\"dismissalType\":\"caught\",\"dismissedAgainst\":\"pace\",\"firstBat\":true,\"fours\":9,\"ground\":\"Perth\",\"match\":167,\"matchID\":3723,\"minutes\":\"148\",\"notOut\":false,\"opposition\":\"Australia\",\"runs\":91,\"sixes\":1,\"strikeRate\":93,\"won\":true},{\"balls\":67,\"batPosition\":\"3\",\"captained\":false,\"date\":\"15 Jan 2016\",\"didNotBat\":false,\"dismissalBowlerHand\":null,\"dismissalType\":\"run out\",\"dismissedAgainst\":null,\"firstBat\":true,\"fours\":4,\"ground\":\"Brisbane\",\"match\":168,\"matchID\":3724,\"minutes\":\"84\",\"notOut\":false,\"opposition\":\"Australia\",\"runs\":59,\"sixes\":0,\"strikeRate\":88,\"won\":true},{\"balls\":117,\"batPosition\":\"3\",\"captained\":false,\"date\":\"17 Jan 2016\",\"didNotBat\":false,\"dismissalBowlerHand\":\"right\",\"dismissalType\":\"caught\",\"dismissedAgainst\":\"pace\",\"firstBat\":true,\"fours\":7,\"ground\":\"Melbourne\",\"match\":169,\"matchID\":3725,\"minutes\":\"174\",\"notOut\":false,\"opposition\":\"Australia\",\"runs\":117,\"sixes\":2,\"strikeRate\":100,\"won\":true},{\"balls\":92,\"batPosition\":\"3\",\"captained\":false,\"date\":\"20 Jan 2016\",\"didNotBat\":false,\"dismissalBowlerHand\":\"right\",\"dismissalType\":\"caught\",\"dismissedAgainst\":\"pace\",\"firstBat\":false,\"fours\":11,\"ground\":\"Canberra\",\"match\":170,\"matchID\":3726,\"minutes\":\"131\",\"notOut\":false,\"opposition\":\"Australia\",\"runs\":106,\"sixes\":1,\"strikeRate\":115,\"won\":true},{\"balls\":11,\"batPosition\":\"3\",\"captained\":false,\"date\":\"23 Jan 2016\",\"didNotBat\":false,\"dismissalBowlerHand\":\"right\",\"dismissalType\":\"caught\",\"dismissedAgainst\":\"pace\",\"firstBat\":false,\"fours\":1,\"ground\":\"Sydney\",\"match\":171,\"matchID\":3727,\"minutes\":\"11\",\"notOut\":false,\"opposition\":\"Australia\",\"runs\":8,\"sixes\":0,\"strikeRate\":72,\"won\":true},{\"balls\":81,\"batPosition\":\"3\",\"captained\":false,\"date\":\"16 Oct 2016\",\"didNotBat\":false,\"dismissalBowlerHand\":null,\"dismissalType\":\"not out\",\"dismissedAgainst\":null,\"firstBat\":false,\"fours\":9,\"ground\":\"Dharamsala\",\"match\":172,\"matchID\":3796,\"minutes\":\"109\",\"notOut\":true,\"opposition\":\"New Zealand\",\"runs\":85,\"sixes\":1,\"strikeRate\":104,\"won\":true},{\"balls\":13,\"batPosition\":\"3\",\"captained\":false,\"date\":\"20 Oct 2016\",\"didNotBat\":false,\"dismissalBowlerHand\":\"left\",\"dismissalType\":\"caught\",\"dismissedAgainst\":\"spin\",\"firstBat\":false,\"fours\":1,\"ground\":\"Delhi\",\"match\":173,\"matchID\":3797,\"minutes\":\"18\",\"notOut\":false,\"opposition\":\"New Zealand\",\"runs\":9,\"sixes\":0,\"strikeRate\":69,\"won\":true},{\"balls\":134,\"batPosition\":\"3\",\"captained\":false,\"date\":\"23 Oct 2016\",\"didNotBat\":false,\"dismissalBowlerHand\":null,\"dismissalType\":\"not out\",\"dismissedAgainst\":null,\"firstBat\":false,\"fours\":16,\"ground\":\"Mohali\",\"match\":174,\"matchID\":3798,\"minutes\":\"202\",\"notOut\":true,\"opposition\":\"New Zealand\",\"runs\":154,\"sixes\":1,\"strikeRate\":114,\"won\":true},{\"balls\":51,\"batPosition\":\"3\",\"captained\":false,\"date\":\"26 Oct 2016\",\"didNotBat\":false,\"dismissalBowlerHand\":\"right\",\"dismissalType\":\"caught\",\"dismissedAgainst\":\"spin\",\"firstBat\":false,\"fours\":2,\"ground\":\"Ranchi\",\"match\":175,\"matchID\":3799,\"minutes\":\"64\",\"notOut\":false,\"opposition\":\"New Zealand\",\"runs\":45,\"sixes\":1,\"strikeRate\":88,\"won\":true},{\"balls\":76,\"batPosition\":\"3\",\"captained\":false,\"date\":\"29 Oct 2016\",\"didNotBat\":false,\"dismissalBowlerHand\":\"right\",\"dismissalType\":\"caught\",\"dismissedAgainst\":\"spin\",\"firstBat\":true,\"fours\":2,\"ground\":\"Visakhapatnam\",\"match\":176,\"matchID\":3800,\"minutes\":\"152\",\"notOut\":false,\"opposition\":\"New Zealand\",\"runs\":65,\"sixes\":1,\"strikeRate\":85,\"won\":true},{\"balls\":105,\"batPosition\":\"3\",\"captained\":true,\"date\":\"15 Jan 2017\",\"didNotBat\":false,\"dismissalBowlerHand\":\"right\",\"dismissalType\":\"caught\",\"dismissedAgainst\":\"pace\",\"firstBat\":false,\"fours\":8,\"ground\":\"Pune\",\"match\":177,\"matchID\":3819,\"minutes\":\"147\",\"notOut\":false,\"opposition\":\"England\",\"runs\":122,\"sixes\":5,\"strikeRate\":116,\"won\":true},{\"balls\":5,\"batPosition\":\"3\",\"captained\":true,\"date\":\"19 Jan 2017\",\"didNotBat\":false,\"dismissalBowlerHand\":\"right\",\"dismissalType\":\"caught\",\"dismissedAgainst\":\"pace\",\"firstBat\":true,\"fours\":2,\"ground\":\"Cuttack\",\"match\":178,\"matchID\":3821,\"minutes\":\"6\",\"notOut\":false,\"opposition\":\"England\",\"runs\":8,\"sixes\":0,\"strikeRate\":160,\"won\":true},{\"balls\":63,\"batPosition\":\"3\",\"captained\":true,\"date\":\"22 Jan 2017\",\"didNotBat\":false,\"dismissalBowlerHand\":\"right\",\"dismissalType\":\"caught\",\"dismissedAgainst\":\"pace\",\"firstBat\":false,\"fours\":8,\"ground\":\"Kolkata\",\"match\":179,\"matchID\":3824,\"minutes\":\"81\",\"notOut\":false,\"opposition\":\"England\",\"runs\":55,\"sixes\":0,\"strikeRate\":87,\"won\":true},{\"balls\":68,\"batPosition\":\"3\",\"captained\":true,\"date\":\"4 Jun 2017\",\"didNotBat\":false,\"dismissalBowlerHand\":null,\"dismissalType\":\"not out\",\"dismissedAgainst\":null,\"firstBat\":true,\"fours\":6,\"ground\":\"Birmingham\",\"match\":180,\"matchID\":3878,\"minutes\":\"108\",\"notOut\":true,\"opposition\":\"Pakistan\",\"runs\":81,\"sixes\":3,\"strikeRate\":119,\"won\":true},{\"balls\":5,\"batPosition\":\"3\",\"captained\":true,\"date\":\"8 Jun 2017\",\"didNotBat\":false,\"dismissalBowlerHand\":\"right\",\"dismissalType\":\"caught\",\"dismissedAgainst\":\"pace\",\"firstBat\":true,\"fours\":0,\"ground\":\"The Oval\",\"match\":181,\"matchID\":3882,\"minutes\":\"5\",\"notOut\":false,\"opposition\":\"Sri Lanka\",\"runs\":0,\"sixes\":0,\"strikeRate\":0,\"won\":true},{\"balls\":101,\"batPosition\":\"3\",\"captained\":true,\"date\":\"11 Jun 2017\",\"didNotBat\":false,\"dismissalBowlerHand\":null,\"dismissalType\":\"not out\",\"dismissedAgainst\":null,\"firstBat\":false,\"fours\":7,\"ground\":\"The Oval\",\"match\":182,\"matchID\":3886,\"minutes\":\"136\",\"notOut\":true,\"opposition\":\"South Africa\",\"runs\":76,\"sixes\":1,\"strikeRate\":75,\"won\":true},{\"balls\":78,\"batPosition\":\"3\",\"captained\":true,\"date\":\"15 Jun 2017\",\"didNotBat\":false,\"dismissalBowlerHand\":null,\"dismissalType\":\"not out\",\"dismissedAgainst\":null,\"firstBat\":false,\"fours\":13,\"ground\":\"Birmingham\",\"match\":183,\"matchID\":3891,\"minutes\":\"96\",\"notOut\":true,\"opposition\":\"Bangladesh\",\"runs\":96,\"sixes\":0,\"strikeRate\":123,\"won\":true},{\"balls\":9,\"batPosition\":\"3\",\"captained\":true,\"date\":\"18 Jun 2017\",\"didNotBat\":false,\"dismissalBowlerHand\":\"left\",\"dismissalType\":\"caught\",\"dismissedAgainst\":\"pace\",\"firstBat\":false,\"fours\":0,\"ground\":\"The Oval\",\"match\":184,\"matchID\":3894,\"minutes\":\"11\",\"notOut\":false,\"opposition\":\"Pakistan\",\"runs\":5,\"sixes\":0,\"strikeRate\":55,\"won\":true},{\"balls\":47,\"batPosition\":\"3\",\"captained\":true,\"date\":\"23 Jun 2017\",\"didNotBat\":false,\"dismissalBowlerHand\":null,\"dismissalType\":\"not out\",\"dismissedAgainst\":null,\"firstBat\":true,\"fours\":1,\"ground\":\"Port of Spain\",\"match\":185,\"matchID\":3895,\"minutes\":0,\"notOut\":true,\"opposition\":\"West Indies\",\"runs\":32,\"sixes\":0,\"strikeRate\":68,\"won\":true},{\"balls\":66,\"batPosition\":\"3\",\"captained\":true,\"date\":\"25 Jun 2017\",\"didNotBat\":false,\"dismissalBowlerHand\":\"right\",\"dismissalType\":\"caught\",\"dismissedAgainst\":\"pace\",\"firstBat\":true,\"fours\":4,\"ground\":\"Port of Spain\",\"match\":186,\"matchID\":3896,\"minutes\":0,\"notOut\":false,\"opposition\":\"West Indies\",\"runs\":87,\"sixes\":4,\"strikeRate\":131,\"won\":true},{\"balls\":22,\"batPosition\":\"3\",\"captained\":true,\"date\":\"30 Jun 2017\",\"didNotBat\":false,\"dismissalBowlerHand\":\"right\",\"dismissalType\":\"caught\",\"dismissedAgainst\":\"pace\",\"firstBat\":true,\"fours\":2,\"ground\":\"North Sound\",\"match\":187,\"matchID\":3898,\"minutes\":0,\"notOut\":false,\"opposition\":\"West Indies\",\"runs\":11,\"sixes\":0,\"strikeRate\":50,\"won\":true},{\"balls\":12,\"batPosition\":\"3\",\"captained\":true,\"date\":\"2 Jul 2017\",\"didNotBat\":false,\"dismissalBowlerHand\":\"right\",\"dismissalType\":\"caught\",\"dismissedAgainst\":\"pace\",\"firstBat\":false,\"fours\":0,\"ground\":\"North Sound\",\"match\":188,\"matchID\":3900,\"minutes\":0,\"notOut\":false,\"opposition\":\"West Indies\",\"runs\":3,\"sixes\":0,\"strikeRate\":25,\"won\":true},{\"balls\":115,\"batPosition\":\"3\",\"captained\":true,\"date\":\"6 Jul 2017\",\"didNotBat\":false,\"dismissalBowlerHand\":null,\"dismissalType\":\"not out\",\"dismissedAgainst\":null,\"firstBat\":false,\"fours\":12,\"ground\":\"Kingston\",\"match\":189,\"matchID\":3902,\"minutes\":0,\"notOut\":true,\"opposition\":\"West Indies\",\"runs\":111,\"sixes\":2,\"strikeRate\":96,\"won\":true},{\"balls\":70,\"batPosition\":\"3\",\"captained\":true,\"date\":\"20 Aug 2017\",\"didNotBat\":false,\"dismissalBowlerHand\":null,\"dismissalType\":\"not out\",\"dismissedAgainst\":null,\"firstBat\":false,\"fours\":10,\"ground\":\"Dambulla\",\"match\":190,\"matchID\":3905,\"minutes\":0,\"notOut\":true,\"opposition\":\"Sri Lanka\",\"runs\":82,\"sixes\":1,\"strikeRate\":117,\"won\":true},{\"balls\":2,\"batPosition\":\"5\",\"captained\":true,\"date\":\"24 Aug 2017\",\"didNotBat\":false,\"dismissalBowlerHand\":\"right\",\"dismissalType\":\"bowled\",\"dismissedAgainst\":\"spin\",\"firstBat\":false,\"fours\":1,\"ground\":\"Pallekele\",\"match\":191,\"matchID\":3906,\"minutes\":0,\"notOut\":false,\"opposition\":\"Sri Lanka\",\"runs\":4,\"sixes\":0,\"strikeRate\":200,\"won\":true},{\"balls\":11,\"batPosition\":\"3\",\"captained\":true,\"date\":\"27 Aug 2017\",\"didNotBat\":false,\"dismissalBowlerHand\":\"left\",\"dismissalType\":\"caught\",\"dismissedAgainst\":\"pace\",\"firstBat\":false,\"fours\":0,\"ground\":\"Pallekele\",\"match\":192,\"matchID\":3907,\"minutes\":0,\"notOut\":false,\"opposition\":\"Sri Lanka\",\"runs\":3,\"sixes\":0,\"strikeRate\":27,\"won\":true},{\"balls\":96,\"batPosition\":\"3\",\"captained\":true,\"date\":\"31 Aug 2017\",\"didNotBat\":false,\"dismissalBowlerHand\":\"right\",\"dismissalType\":\"caught\",\"dismissedAgainst\":\"pace\",\"firstBat\":true,\"fours\":17,\"ground\":\"Colombo (RPS)\",\"match\":193,\"matchID\":3908,\"minutes\":0,\"notOut\":false,\"opposition\":\"Sri Lanka\",\"runs\":131,\"sixes\":2,\"strikeRate\":136,\"won\":true},{\"balls\":116,\"batPosition\":\"3\",\"captained\":true,\"date\":\"3 Sep 2017\",\"didNotBat\":false,\"dismissalBowlerHand\":null,\"dismissalType\":\"not out\",\"dismissedAgainst\":null,\"firstBat\":false,\"fours\":9,\"ground\":\"Colombo (RPS)\",\"match\":194,\"matchID\":3909,\"minutes\":0,\"notOut\":true,\"opposition\":\"Sri Lanka\",\"runs\":110,\"sixes\":0,\"strikeRate\":94,\"won\":true},{\"balls\":4,\"batPosition\":\"3\",\"captained\":true,\"date\":\"17 Sep 2017\",\"didNotBat\":false,\"dismissalBowlerHand\":\"right\",\"dismissalType\":\"caught\",\"dismissedAgainst\":\"pace\",\"firstBat\":true,\"fours\":0,\"ground\":\"Chennai\",\"match\":195,\"matchID\":3910,\"minutes\":\"7\",\"notOut\":false,\"opposition\":\"Australia\",\"runs\":0,\"sixes\":0,\"strikeRate\":0,\"won\":true},{\"balls\":107,\"batPosition\":\"3\",\"captained\":true,\"date\":\"21 Sep 2017\",\"didNotBat\":false,\"dismissalBowlerHand\":\"right\",\"dismissalType\":\"bowled\",\"dismissedAgainst\":\"pace\",\"firstBat\":true,\"fours\":8,\"ground\":\"Kolkata\",\"match\":196,\"matchID\":3912,\"minutes\":\"148\",\"notOut\":false,\"opposition\":\"Australia\",\"runs\":92,\"sixes\":0,\"strikeRate\":85,\"won\":true},{\"balls\":35,\"batPosition\":\"3\",\"captained\":true,\"date\":\"24 Sep 2017\",\"didNotBat\":false,\"dismissalBowlerHand\":\"left\",\"dismissalType\":\"caught\",\"dismissedAgainst\":\"spin\",\"firstBat\":false,\"fours\":2,\"ground\":\"Indore\",\"match\":197,\"matchID\":3914,\"minutes\":\"58\",\"notOut\":false,\"opposition\":\"Australia\",\"runs\":28,\"sixes\":0,\"strikeRate\":80,\"won\":true},{\"balls\":21,\"batPosition\":\"3\",\"captained\":true,\"date\":\"28 Sep 2017\",\"didNotBat\":false,\"dismissalBowlerHand\":\"right\",\"dismissalType\":\"bowled\",\"dismissedAgainst\":\"pace\",\"firstBat\":false,\"fours\":3,\"ground\":\"Bengaluru\",\"match\":198,\"matchID\":3917,\"minutes\":\"23\",\"notOut\":false,\"opposition\":\"Australia\",\"runs\":21,\"sixes\":0,\"strikeRate\":100,\"won\":true},{\"balls\":55,\"batPosition\":\"3\",\"captained\":true,\"date\":\"1 Oct 2017\",\"didNotBat\":false,\"dismissalBowlerHand\":\"right\",\"dismissalType\":\"caught\",\"dismissedAgainst\":\"spin\",\"firstBat\":false,\"fours\":2,\"ground\":\"Nagpur\",\"match\":199,\"matchID\":3919,\"minutes\":\"73\",\"notOut\":false,\"opposition\":\"Australia\",\"runs\":39,\"sixes\":0,\"strikeRate\":70,\"won\":true},{\"balls\":125,\"batPosition\":\"3\",\"captained\":true,\"date\":\"22 Oct 2017\",\"didNotBat\":false,\"dismissalBowlerHand\":\"right\",\"dismissalType\":\"caught\",\"dismissedAgainst\":\"pace\",\"firstBat\":true,\"fours\":9,\"ground\":\"Mumbai\",\"match\":200,\"matchID\":3928,\"minutes\":\"203\",\"notOut\":false,\"opposition\":\"New Zealand\",\"runs\":121,\"sixes\":2,\"strikeRate\":96,\"won\":true},{\"balls\":29,\"batPosition\":\"3\",\"captained\":true,\"date\":\"25 Oct 2017\",\"didNotBat\":false,\"dismissalBowlerHand\":\"right\",\"dismissalType\":\"caught\",\"dismissedAgainst\":\"pace\",\"firstBat\":false,\"fours\":3,\"ground\":\"Pune\",\"match\":201,\"matchID\":3931,\"minutes\":\"40\",\"notOut\":false,\"opposition\":\"New Zealand\",\"runs\":29,\"sixes\":1,\"strikeRate\":100,\"won\":true},{\"balls\":106,\"batPosition\":\"3\",\"captained\":true,\"date\":\"29 Oct 2017\",\"didNotBat\":false,\"dismissalBowlerHand\":\"right\",\"dismissalType\":\"caught\",\"dismissedAgainst\":\"pace\",\"firstBat\":true,\"fours\":9,\"ground\":\"Kanpur\",\"match\":202,\"matchID\":3932,\"minutes\":\"166\",\"notOut\":false,\"opposition\":\"New Zealand\",\"runs\":113,\"sixes\":1,\"strikeRate\":106,\"won\":true},{\"balls\":119,\"batPosition\":\"3\",\"captained\":true,\"date\":\"1 Feb 2018\",\"didNotBat\":false,\"dismissalBowlerHand\":\"right\",\"dismissalType\":\"caught\",\"dismissedAgainst\":\"pace\",\"firstBat\":false,\"fours\":10,\"ground\":\"Durban\",\"match\":203,\"matchID\":3969,\"minutes\":\"164\",\"notOut\":false,\"opposition\":\"South Africa\",\"runs\":112,\"sixes\":0,\"strikeRate\":94,\"won\":true},{\"balls\":50,\"batPosition\":\"3\",\"captained\":true,\"date\":\"4 Feb 2018\",\"didNotBat\":false,\"dismissalBowlerHand\":null,\"dismissalType\":\"not out\",\"dismissedAgainst\":null,\"firstBat\":false,\"fours\":4,\"ground\":\"Centurion\",\"match\":204,\"matchID\":3970,\"minutes\":\"64\",\"notOut\":true,\"opposition\":\"South Africa\",\"runs\":46,\"sixes\":1,\"strikeRate\":92,\"won\":true},{\"balls\":159,\"batPosition\":\"3\",\"captained\":true,\"date\":\"7 Feb 2018\",\"didNotBat\":false,\"dismissalBowlerHand\":null,\"dismissalType\":\"not out\",\"dismissedAgainst\":null,\"firstBat\":true,\"fours\":12,\"ground\":\"Cape Town\",\"match\":205,\"matchID\":3971,\"minutes\":\"220\",\"notOut\":true,\"opposition\":\"South Africa\",\"runs\":160,\"sixes\":2,\"strikeRate\":100,\"won\":true},{\"balls\":83,\"batPosition\":\"3\",\"captained\":true,\"date\":\"10 Feb 2018\",\"didNotBat\":false,\"dismissalBowlerHand\":\"right\",\"dismissalType\":\"caught\",\"dismissedAgainst\":\"pace\",\"firstBat\":true,\"fours\":7,\"ground\":\"Johannesburg\",\"match\":206,\"matchID\":3973,\"minutes\":\"119\",\"notOut\":false,\"opposition\":\"South Africa\",\"runs\":75,\"sixes\":1,\"strikeRate\":90,\"won\":true},{\"balls\":54,\"batPosition\":\"3\",\"captained\":true,\"date\":\"13 Feb 2018\",\"didNotBat\":false,\"dismissalBowlerHand\":null,\"dismissalType\":\"run out\",\"dismissedAgainst\":null,\"firstBat\":true,\"fours\":2,\"ground\":\"Port Elizabeth\",\"match\":207,\"matchID\":3976,\"minutes\":\"76\",\"notOut\":false,\"opposition\":\"South Africa\",\"runs\":36,\"sixes\":0,\"strikeRate\":66,\"won\":true},{\"balls\":96,\"batPosition\":\"3\",\"captained\":true,\"date\":\"16 Feb 2018\",\"didNotBat\":false,\"dismissalBowlerHand\":null,\"dismissalType\":\"not out\",\"dismissedAgainst\":null,\"firstBat\":false,\"fours\":19,\"ground\":\"Centurion\",\"match\":208,\"matchID\":3978,\"minutes\":\"123\",\"notOut\":true,\"opposition\":\"South Africa\",\"runs\":129,\"sixes\":2,\"strikeRate\":134,\"won\":true},{\"balls\":82,\"batPosition\":\"3\",\"captained\":true,\"date\":\"12 Jul 2018\",\"didNotBat\":false,\"dismissalBowlerHand\":\"right\",\"dismissalType\":\"stumped\",\"dismissedAgainst\":\"spin\",\"firstBat\":false,\"fours\":7,\"ground\":\"Nottingham\",\"match\":209,\"matchID\":4014,\"minutes\":0,\"notOut\":false,\"opposition\":\"England\",\"runs\":75,\"sixes\":0,\"strikeRate\":91,\"won\":true},{\"balls\":56,\"batPosition\":\"3\",\"captained\":true,\"date\":\"14 Jul 2018\",\"didNotBat\":false,\"dismissalBowlerHand\":\"right\",\"dismissalType\":\"lbw\",\"dismissedAgainst\":\"spin\",\"firstBat\":false,\"fours\":2,\"ground\":\"Lord's\",\"match\":210,\"matchID\":4016,\"minutes\":0,\"notOut\":false,\"opposition\":\"England\",\"runs\":45,\"sixes\":0,\"strikeRate\":80,\"won\":true},{\"balls\":72,\"batPosition\":\"3\",\"captained\":true,\"date\":\"17 Jul 2018\",\"didNotBat\":false,\"dismissalBowlerHand\":\"right\",\"dismissalType\":\"bowled\",\"dismissedAgainst\":\"spin\",\"firstBat\":true,\"fours\":8,\"ground\":\"Leeds\",\"match\":211,\"matchID\":4018,\"minutes\":\"98\",\"notOut\":false,\"opposition\":\"England\",\"runs\":71,\"sixes\":0,\"strikeRate\":98,\"won\":true},{\"balls\":107,\"batPosition\":\"3\",\"captained\":true,\"date\":\"21 Oct 2018\",\"didNotBat\":false,\"dismissalBowlerHand\":\"right\",\"dismissalType\":\"stumped\",\"dismissedAgainst\":\"spin\",\"firstBat\":false,\"fours\":21,\"ground\":\"Guwahati\",\"match\":212,\"matchID\":4056,\"minutes\":0,\"notOut\":false,\"opposition\":\"West Indies\",\"runs\":140,\"sixes\":2,\"strikeRate\":130,\"won\":true},{\"balls\":129,\"batPosition\":\"3\",\"captained\":true,\"date\":\"24 Oct 2018\",\"didNotBat\":false,\"dismissalBowlerHand\":null,\"dismissalType\":\"not out\",\"dismissedAgainst\":null,\"firstBat\":true,\"fours\":13,\"ground\":\"Visakhapatnam\",\"match\":213,\"matchID\":4059,\"minutes\":\"217\",\"notOut\":true,\"opposition\":\"West Indies\",\"runs\":157,\"sixes\":4,\"strikeRate\":121,\"won\":true},{\"balls\":119,\"batPosition\":\"3\",\"captained\":true,\"date\":\"27 Oct 2018\",\"didNotBat\":false,\"dismissalBowlerHand\":\"right\",\"dismissalType\":\"bowled\",\"dismissedAgainst\":\"spin\",\"firstBat\":false,\"fours\":10,\"ground\":\"Pune\",\"match\":214,\"matchID\":4062,\"minutes\":0,\"notOut\":false,\"opposition\":\"West Indies\",\"runs\":107,\"sixes\":1,\"strikeRate\":89,\"won\":true},{\"balls\":17,\"batPosition\":\"3\",\"captained\":true,\"date\":\"29 Oct 2018\",\"didNotBat\":false,\"dismissalBowlerHand\":\"right\",\"dismissalType\":\"caught\",\"dismissedAgainst\":\"pace\",\"firstBat\":true,\"fours\":2,\"ground\":\"Mumbai (BS)\",\"match\":215,\"matchID\":4063,\"minutes\":0,\"notOut\":false,\"opposition\":\"West Indies\",\"runs\":16,\"sixes\":0,\"strikeRate\":94,\"won\":true},{\"balls\":29,\"batPosition\":\"3\",\"captained\":true,\"date\":\"1 Nov 2018\",\"didNotBat\":false,\"dismissalBowlerHand\":null,\"dismissalType\":\"not out\",\"dismissedAgainst\":null,\"firstBat\":false,\"fours\":6,\"ground\":\"Thiruvananthapuram\",\"match\":216,\"matchID\":4064,\"minutes\":\"57\",\"notOut\":true,\"opposition\":\"West Indies\",\"runs\":33,\"sixes\":0,\"strikeRate\":113,\"won\":true},{\"balls\":8,\"batPosition\":\"3\",\"captained\":true,\"date\":\"12 Jan 2019\",\"didNotBat\":false,\"dismissalBowlerHand\":\"right\",\"dismissalType\":\"caught\",\"dismissedAgainst\":\"pace\",\"firstBat\":false,\"fours\":0,\"ground\":\"Sydney\",\"match\":217,\"matchID\":4077,\"minutes\":\"10\",\"notOut\":false,\"opposition\":\"Australia\",\"runs\":3,\"sixes\":0,\"strikeRate\":37,\"won\":true},{\"balls\":112,\"batPosition\":\"3\",\"captained\":true,\"date\":\"15 Jan 2019\",\"didNotBat\":false,\"dismissalBowlerHand\":\"right\",\"dismissalType\":\"caught\",\"dismissedAgainst\":\"pace\",\"firstBat\":false,\"fours\":5,\"ground\":\"Adelaide\",\"match\":218,\"matchID\":4078,\"minutes\":\"150\",\"notOut\":false,\"opposition\":\"Australia\",\"runs\":104,\"sixes\":2,\"strikeRate\":92,\"won\":true},{\"balls\":62,\"batPosition\":\"3\",\"captained\":true,\"date\":\"18 Jan 2019\",\"didNotBat\":false,\"dismissalBowlerHand\":\"right\",\"dismissalType\":\"caught\",\"dismissedAgainst\":\"pace\",\"firstBat\":false,\"fours\":3,\"ground\":\"Melbourne\",\"match\":219,\"matchID\":4079,\"minutes\":0,\"notOut\":false,\"opposition\":\"Australia\",\"runs\":46,\"sixes\":0,\"strikeRate\":74,\"won\":true},{\"balls\":59,\"batPosition\":\"3\",\"captained\":true,\"date\":\"23 Jan 2019\",\"didNotBat\":false,\"dismissalBowlerHand\":\"right\",\"dismissalType\":\"caught\",\"dismissedAgainst\":\"pace\",\"firstBat\":false,\"fours\":3,\"ground\":\"Napier\",\"match\":220,\"matchID\":4082,\"minutes\":\"59\",\"notOut\":false,\"opposition\":\"New Zealand\",\"runs\":45,\"sixes\":0,\"strikeRate\":76,\"won\":true},{\"balls\":45,\"batPosition\":\"3\",\"captained\":true,\"date\":\"26 Jan 2019\",\"didNotBat\":false,\"dismissalBowlerHand\":\"left\",\"dismissalType\":\"caught\",\"dismissedAgainst\":\"pace\",\"firstBat\":true,\"fours\":5,\"ground\":\"Mount Maunganui\",\"match\":221,\"matchID\":4085,\"minutes\":\"59\",\"notOut\":false,\"opposition\":\"New Zealand\",\"runs\":43,\"sixes\":0,\"strikeRate\":95,\"won\":true},{\"balls\":74,\"batPosition\":\"3\",\"captained\":true,\"date\":\"28 Jan 2019\",\"didNotBat\":false,\"dismissalBowlerHand\":\"left\",\"dismissalType\":\"caught\",\"dismissedAgainst\":\"pace\",\"firstBat\":false,\"fours\":6,\"ground\":\"Mount Maunganui\",\"match\":222,\"matchID\":4088,\"minutes\":\"94\",\"notOut\":false,\"opposition\":\"New Zealand\",\"runs\":60,\"sixes\":1,\"strikeRate\":81,\"won\":true},{\"balls\":45,\"batPosition\":\"3\",\"captained\":true,\"date\":\"2 Mar 2019\",\"didNotBat\":false,\"dismissalBowlerHand\":\"right\",\"dismissalType\":\"lbw\",\"dismissedAgainst\":\"spin\",\"firstBat\":false,\"fours\":6,\"ground\":\"Hyderabad (Deccan)\",\"match\":223,\"matchID\":4102,\"minutes\":0,\"notOut\":false,\"opposition\":\"Australia\",\"runs\":44,\"sixes\":1,\"strikeRate\":97,\"won\":true},{\"balls\":120,\"batPosition\":\"3\",\"captained\":true,\"date\":\"5 Mar 2019\",\"didNotBat\":false,\"dismissalBowlerHand\":\"right\",\"dismissalType\":\"caught\",\"dismissedAgainst\":\"pace\",\"firstBat\":true,\"fours\":10,\"ground\":\"Nagpur\",\"match\":224,\"matchID\":4106,\"minutes\":0,\"notOut\":false,\"opposition\":\"Australia\",\"runs\":116,\"sixes\":0,\"strikeRate\":96,\"won\":true},{\"balls\":95,\"batPosition\":\"3\",\"captained\":true,\"date\":\"8 Mar 2019\",\"didNotBat\":false,\"dismissalBowlerHand\":\"right\",\"dismissalType\":\"bowled\",\"dismissedAgainst\":\"spin\",\"firstBat\":false,\"fours\":16,\"ground\":\"Ranchi\",\"match\":225,\"matchID\":4109,\"minutes\":0,\"notOut\":false,\"opposition\":\"Australia\",\"runs\":123,\"sixes\":1,\"strikeRate\":129,\"won\":true},{\"balls\":6,\"batPosition\":\"4\",\"captained\":true,\"date\":\"10 Mar 2019\",\"didNotBat\":false,\"dismissalBowlerHand\":\"right\",\"dismissalType\":\"caught\",\"dismissedAgainst\":\"pace\",\"firstBat\":true,\"fours\":1,\"ground\":\"Mohali\",\"match\":226,\"matchID\":4111,\"minutes\":0,\"notOut\":false,\"opposition\":\"Australia\",\"runs\":7,\"sixes\":0,\"strikeRate\":116,\"won\":true},{\"balls\":22,\"batPosition\":\"3\",\"captained\":true,\"date\":\"13 Mar 2019\",\"didNotBat\":false,\"dismissalBowlerHand\":\"right\",\"dismissalType\":\"caught\",\"dismissedAgainst\":\"pace\",\"firstBat\":false,\"fours\":2,\"ground\":\"Delhi\",\"match\":227,\"matchID\":4113,\"minutes\":0,\"notOut\":false,\"opposition\":\"Australia\",\"runs\":20,\"sixes\":0,\"strikeRate\":90,\"won\":true},{\"balls\":34,\"batPosition\":\"3\",\"captained\":true,\"date\":\"5 Jun 2019\",\"didNotBat\":false,\"dismissalBowlerHand\":\"right\",\"dismissalType\":\"caught\",\"dismissedAgainst\":\"pace\",\"firstBat\":false,\"fours\":1,\"ground\":\"Southampton\",\"match\":228,\"matchID\":4150,\"minutes\":\"44\",\"notOut\":false,\"opposition\":\"South Africa\",\"runs\":18,\"sixes\":0,\"strikeRate\":52,\"won\":true},{\"balls\":77,\"batPosition\":\"3\",\"captained\":true,\"date\":\"9 Jun 2019\",\"didNotBat\":false,\"dismissalBowlerHand\":\"right\",\"dismissalType\":\"caught\",\"dismissedAgainst\":\"pace\",\"firstBat\":true,\"fours\":4,\"ground\":\"The Oval\",\"match\":229,\"matchID\":4155,\"minutes\":\"128\",\"notOut\":false,\"opposition\":\"Australia\",\"runs\":82,\"sixes\":2,\"strikeRate\":106,\"won\":true},{\"balls\":65,\"batPosition\":\"3\",\"captained\":true,\"date\":\"16 Jun 2019\",\"didNotBat\":false,\"dismissalBowlerHand\":\"left\",\"dismissalType\":\"caught\",\"dismissedAgainst\":\"pace\",\"firstBat\":true,\"fours\":7,\"ground\":\"Manchester\",\"match\":230,\"matchID\":4161,\"minutes\":\"105\",\"notOut\":false,\"opposition\":\"Pakistan\",\"runs\":77,\"sixes\":0,\"strikeRate\":118,\"won\":true},{\"balls\":63,\"batPosition\":\"3\",\"captained\":true,\"date\":\"22 Jun 2019\",\"didNotBat\":false,\"dismissalBowlerHand\":\"right\",\"dismissalType\":\"caught\",\"dismissedAgainst\":\"spin\",\"firstBat\":true,\"fours\":5,\"ground\":\"Southampton\",\"match\":231,\"matchID\":4169,\"minutes\":\"105\",\"notOut\":false,\"opposition\":\"Afghanistan\",\"runs\":67,\"sixes\":0,\"strikeRate\":106,\"won\":true},{\"balls\":82,\"batPosition\":\"3\",\"captained\":true,\"date\":\"27 Jun 2019\",\"didNotBat\":false,\"dismissalBowlerHand\":\"right\",\"dismissalType\":\"caught\",\"dismissedAgainst\":\"pace\",\"firstBat\":true,\"fours\":8,\"ground\":\"Manchester\",\"match\":232,\"matchID\":4175,\"minutes\":\"146\",\"notOut\":false,\"opposition\":\"West Indies\",\"runs\":72,\"sixes\":0,\"strikeRate\":87,\"won\":true}]\n"
     ]
    }
   ],
   "source": [
    "json = dataset.to_json(orient='records')\n",
    "print(json)"
   ]
  },
  {
   "cell_type": "code",
   "execution_count": 24,
   "metadata": {},
   "outputs": [],
   "source": [
    "    \n",
    "import requests\n",
    "import pandas as pd\n",
    "import numpy as np\n",
    "import matplotlib.pyplot as plt"
   ]
  },
  {
   "cell_type": "code",
   "execution_count": 40,
   "metadata": {},
   "outputs": [
    {
     "ename": "SyntaxError",
     "evalue": "(unicode error) 'unicodeescape' codec can't decode bytes in position 2-3: truncated \\UXXXXXXXX escape (<ipython-input-40-931596c89fa6>, line 1)",
     "output_type": "error",
     "traceback": [
      "\u001b[1;36m  File \u001b[1;32m\"<ipython-input-40-931596c89fa6>\"\u001b[1;36m, line \u001b[1;32m1\u001b[0m\n\u001b[1;33m    url =\"C:\\Users\\s534624\\Desktop\\Pro\\vk.json\"\u001b[0m\n\u001b[1;37m        ^\u001b[0m\n\u001b[1;31mSyntaxError\u001b[0m\u001b[1;31m:\u001b[0m (unicode error) 'unicodeescape' codec can't decode bytes in position 2-3: truncated \\UXXXXXXXX escape\n"
     ]
    }
   ],
   "source": [
    "url =\"C:\\Users\\s534624\\Desktop\\Pro\\vk.json\"\n",
    "data = requests.get(url).json()\n",
    "print(data)"
   ]
  },
  {
   "cell_type": "code",
   "execution_count": 39,
   "metadata": {},
   "outputs": [
    {
     "data": {
      "text/plain": [
       "<matplotlib.axes._subplots.AxesSubplot at 0x17c21fbdd68>"
      ]
     },
     "execution_count": 39,
     "metadata": {},
     "output_type": "execute_result"
    },
    {
     "data": {
      "image/png": "[encoded data removed]",
      "text/plain": [
       "<Figure size 432x288 with 1 Axes>"
      ]
     },
     "metadata": {},
     "output_type": "display_data"
    }
   ],
   "source": [
    "a = dataset.loc[~dataset['dismissalType'].isin({'not out','-'})]\n",
    "b = a.groupby(by='dismissalType', as_index=False).size()\n",
    "b.plot(kind='pie', title='Dismissal Types', autopct='%1.1f%%', legend=True, label='', labels=None)"
   ]
  },
  {
   "cell_type": "code",
   "execution_count": 32,
   "metadata": {},
   "outputs": [
    {
     "data": {
      "text/plain": [
       "<matplotlib.axes._subplots.AxesSubplot at 0x17c1e651e48>"
      ]
     },
     "execution_count": 32,
     "metadata": {},
     "output_type": "execute_result"
    },
    {
     "data": {
      "image/png": "[encoded data removed]",
      "text/plain": [
       "<Figure size 432x288 with 1 Axes>"
      ]
     },
     "metadata": {},
     "output_type": "display_data"
    }
   ],
   "source": [
    "a = dataset.groupby(by=['dismissalBowlerHand','dismissedAgainst']).size()\n",
    "a.plot(kind='pie', legend=True, autopct='%1.1f%%', label='')"
   ]
  },
  {
   "cell_type": "code",
   "execution_count": 33,
   "metadata": {},
   "outputs": [
    {
     "data": {
      "text/plain": [
       "<matplotlib.axes._subplots.AxesSubplot at 0x17c2069d3c8>"
      ]
     },
     "execution_count": 33,
     "metadata": {},
     "output_type": "execute_result"
    },
    {
     "data": {
      "image/png": "[encoded data removed]",
      "text/plain": [
       "<Figure size 432x288 with 1 Axes>"
      ]
     },
     "metadata": {
      "needs_background": "light"
     },
     "output_type": "display_data"
    }
   ],
   "source": [
    "dismissed_matches = dataset.loc[~dataset['dismissalType'].isin({'not out','-'})]\n",
    "grouped_data = dismissed_matches.groupby(pd.cut(dismissed_matches[\"runs\"], np.arange(0, 100, 10))).size()\n",
    "grouped_data.plot(kind='bar', title='Run Scored when Dismissed')"
   ]
  },
  {
   "cell_type": "code",
   "execution_count": null,
   "metadata": {},
   "outputs": [],
   "source": []
  }
 ],
 "metadata": {
  "kernelspec": {
   "display_name": "Python 3",
   "language": "python",
   "name": "python3"
  },
  "language_info": {
   "codemirror_mode": {
    "name": "ipython",
    "version": 3
   },
   "file_extension": ".py",
   "mimetype": "text/x-python",
   "name": "python",
   "nbconvert_exporter": "python",
   "pygments_lexer": "ipython3",
   "version": "3.7.3"
  }
 },
 "nbformat": 4,
 "nbformat_minor": 2
}
